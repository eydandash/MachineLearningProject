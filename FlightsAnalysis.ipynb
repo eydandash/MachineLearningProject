{
 "cells": [
  {
   "cell_type": "markdown",
   "metadata": {},
   "source": [
    "# Introduction to AI : Coursework\n",
    "-----------------------------------------\n",
    "## Flight Delays Data Analysis & AI Techniques Application   \n",
    "\n",
    "**Data Source** https://www.kaggle.com/usdot/flight-delays#flights.csv\n",
    "\n",
    "### Background & Scope of Data\n",
    "\n",
    "The explored dataset, flights.csv, represents the on-time performance of **domestic** flights operated by large air carriers in the **US**. In two complementary datasets, there are 14 Airlines inlcuded, as well as 322 airports, all represented by their IATA (International Air Transport Association) code. The table below shows an overview of the first ten rows of the two databases."
   ]
  },
  {
   "cell_type": "markdown",
   "metadata": {},
   "source": [
    "### Airlines & Airports Datasets"
   ]
  },
  {
   "cell_type": "markdown",
   "metadata": {},
   "source": [
    "Here, we run initialization code, define python imports and load all csv files."
   ]
  },
  {
   "cell_type": "code",
   "execution_count": 126,
   "metadata": {
    "ExecuteTime": {
     "end_time": "2019-12-17T00:16:19.842920Z",
     "start_time": "2019-12-17T00:16:19.835905Z"
    }
   },
   "outputs": [],
   "source": [
    "import os\n",
    "import pandas as pd\n",
    "import numpy as np\n",
    "from matplotlib import pyplot as plt\n",
    "from sklearn.neural_network import MLPClassifier\n",
    "from sklearn.linear_model import LinearRegression\n",
    "from sklearn.model_selection import train_test_split \n",
    "from sklearn import metrics\n",
    "from IPython.display import display_html\n",
    "from sklearn.preprocessing import LabelEncoder\n",
    "from sklearn.metrics import accuracy_score"
   ]
  },
  {
   "cell_type": "code",
   "execution_count": 3,
   "metadata": {
    "ExecuteTime": {
     "end_time": "2019-12-16T23:37:47.953405Z",
     "start_time": "2019-12-16T23:37:34.228544Z"
    }
   },
   "outputs": [
    {
     "name": "stderr",
     "output_type": "stream",
     "text": [
      "D:\\ProgramData\\Anaconda3\\lib\\site-packages\\IPython\\core\\interactiveshell.py:2728: DtypeWarning: Columns (7,8) have mixed types. Specify dtype option on import or set low_memory=False.\n",
      "  interactivity=interactivity, compiler=compiler, result=result)\n"
     ]
    }
   ],
   "source": [
    "# Ensuring all columns are showed\n",
    "pd.set_option('display.max_columns', 500)\n",
    "# Ensuring the view is optimised by showing the 2 dataframes side by side\n",
    "def display_side_by_side(*args):\n",
    "    html_str=''\n",
    "    for df in args:\n",
    "        html_str+=df.to_html()\n",
    "    display_html(html_str.replace('table','table style=\"display:inline; margin-right:15px;\"'), raw=True)\n",
    "    \n",
    "# Ensuring all floats included, and calculated such as mean median and other numbers would \n",
    "# return a float that's easy to understand, not in scientific notation.\n",
    "pd.set_option('display.float_format', lambda x: '%.1f' % x)\n",
    "\n",
    "data_dir_path = \"data\"\n",
    "airlines_file_path = os.path.join(data_dir_path, \"airlines.csv\")\n",
    "airports_file_path = os.path.join(data_dir_path, \"airports.csv\")\n",
    "flights_file_path = os.path.join(data_dir_path, \"flights.csv\")\n",
    "\n",
    "# loading all CSV files (they're original csv files that shouldn't be modified)\n",
    "_airlines_csv = pd.read_csv(airlines_file_path)\n",
    "_airports_csv = pd.read_csv(airports_file_path)\n",
    "_flights_csv = pd.read_csv(flights_file_path)"
   ]
  },
  {
   "cell_type": "code",
   "execution_count": 4,
   "metadata": {
    "ExecuteTime": {
     "end_time": "2019-12-16T23:37:48.005377Z",
     "start_time": "2019-12-16T23:37:47.954409Z"
    },
    "scrolled": true
   },
   "outputs": [
    {
     "data": {
      "text/html": [
       "<table style=\"display:inline; margin-right:15px;\" border=\"1\" class=\"dataframe\">\n",
       "  <thead>\n",
       "    <tr style=\"text-align: right;\">\n",
       "      <th></th>\n",
       "      <th>IATA_CODE</th>\n",
       "      <th>AIRLINE</th>\n",
       "    </tr>\n",
       "  </thead>\n",
       "  <tbody>\n",
       "    <tr>\n",
       "      <th>0</th>\n",
       "      <td>UA</td>\n",
       "      <td>United Air Lines Inc.</td>\n",
       "    </tr>\n",
       "    <tr>\n",
       "      <th>1</th>\n",
       "      <td>AA</td>\n",
       "      <td>American Airlines Inc.</td>\n",
       "    </tr>\n",
       "    <tr>\n",
       "      <th>2</th>\n",
       "      <td>US</td>\n",
       "      <td>US Airways Inc.</td>\n",
       "    </tr>\n",
       "    <tr>\n",
       "      <th>3</th>\n",
       "      <td>F9</td>\n",
       "      <td>Frontier Airlines Inc.</td>\n",
       "    </tr>\n",
       "    <tr>\n",
       "      <th>4</th>\n",
       "      <td>B6</td>\n",
       "      <td>JetBlue Airways</td>\n",
       "    </tr>\n",
       "    <tr>\n",
       "      <th>5</th>\n",
       "      <td>OO</td>\n",
       "      <td>Skywest Airlines Inc.</td>\n",
       "    </tr>\n",
       "    <tr>\n",
       "      <th>6</th>\n",
       "      <td>AS</td>\n",
       "      <td>Alaska Airlines Inc.</td>\n",
       "    </tr>\n",
       "    <tr>\n",
       "      <th>7</th>\n",
       "      <td>NK</td>\n",
       "      <td>Spirit Air Lines</td>\n",
       "    </tr>\n",
       "    <tr>\n",
       "      <th>8</th>\n",
       "      <td>WN</td>\n",
       "      <td>Southwest Airlines Co.</td>\n",
       "    </tr>\n",
       "    <tr>\n",
       "      <th>9</th>\n",
       "      <td>DL</td>\n",
       "      <td>Delta Air Lines Inc.</td>\n",
       "    </tr>\n",
       "  </tbody>\n",
       "</table style=\"display:inline; margin-right:15px;\"><table style=\"display:inline; margin-right:15px;\" border=\"1\" class=\"dataframe\">\n",
       "  <thead>\n",
       "    <tr style=\"text-align: right;\">\n",
       "      <th></th>\n",
       "      <th>IATA_CODE</th>\n",
       "      <th>AIRPORT</th>\n",
       "      <th>CITY</th>\n",
       "      <th>STATE</th>\n",
       "      <th>COUNTRY</th>\n",
       "      <th>LATITUDE</th>\n",
       "      <th>LONGITUDE</th>\n",
       "    </tr>\n",
       "  </thead>\n",
       "  <tbody>\n",
       "    <tr>\n",
       "      <th>0</th>\n",
       "      <td>ABE</td>\n",
       "      <td>Lehigh Valley International Airport</td>\n",
       "      <td>Allentown</td>\n",
       "      <td>PA</td>\n",
       "      <td>USA</td>\n",
       "      <td>40.7</td>\n",
       "      <td>-75.4</td>\n",
       "    </tr>\n",
       "    <tr>\n",
       "      <th>1</th>\n",
       "      <td>ABI</td>\n",
       "      <td>Abilene Regional Airport</td>\n",
       "      <td>Abilene</td>\n",
       "      <td>TX</td>\n",
       "      <td>USA</td>\n",
       "      <td>32.4</td>\n",
       "      <td>-99.7</td>\n",
       "    </tr>\n",
       "    <tr>\n",
       "      <th>2</th>\n",
       "      <td>ABQ</td>\n",
       "      <td>Albuquerque International Sunport</td>\n",
       "      <td>Albuquerque</td>\n",
       "      <td>NM</td>\n",
       "      <td>USA</td>\n",
       "      <td>35.0</td>\n",
       "      <td>-106.6</td>\n",
       "    </tr>\n",
       "    <tr>\n",
       "      <th>3</th>\n",
       "      <td>ABR</td>\n",
       "      <td>Aberdeen Regional Airport</td>\n",
       "      <td>Aberdeen</td>\n",
       "      <td>SD</td>\n",
       "      <td>USA</td>\n",
       "      <td>45.4</td>\n",
       "      <td>-98.4</td>\n",
       "    </tr>\n",
       "    <tr>\n",
       "      <th>4</th>\n",
       "      <td>ABY</td>\n",
       "      <td>Southwest Georgia Regional Airport</td>\n",
       "      <td>Albany</td>\n",
       "      <td>GA</td>\n",
       "      <td>USA</td>\n",
       "      <td>31.5</td>\n",
       "      <td>-84.2</td>\n",
       "    </tr>\n",
       "    <tr>\n",
       "      <th>5</th>\n",
       "      <td>ACK</td>\n",
       "      <td>Nantucket Memorial Airport</td>\n",
       "      <td>Nantucket</td>\n",
       "      <td>MA</td>\n",
       "      <td>USA</td>\n",
       "      <td>41.3</td>\n",
       "      <td>-70.1</td>\n",
       "    </tr>\n",
       "    <tr>\n",
       "      <th>6</th>\n",
       "      <td>ACT</td>\n",
       "      <td>Waco Regional Airport</td>\n",
       "      <td>Waco</td>\n",
       "      <td>TX</td>\n",
       "      <td>USA</td>\n",
       "      <td>31.6</td>\n",
       "      <td>-97.2</td>\n",
       "    </tr>\n",
       "    <tr>\n",
       "      <th>7</th>\n",
       "      <td>ACV</td>\n",
       "      <td>Arcata Airport</td>\n",
       "      <td>Arcata/Eureka</td>\n",
       "      <td>CA</td>\n",
       "      <td>USA</td>\n",
       "      <td>41.0</td>\n",
       "      <td>-124.1</td>\n",
       "    </tr>\n",
       "    <tr>\n",
       "      <th>8</th>\n",
       "      <td>ACY</td>\n",
       "      <td>Atlantic City International Airport</td>\n",
       "      <td>Atlantic City</td>\n",
       "      <td>NJ</td>\n",
       "      <td>USA</td>\n",
       "      <td>39.5</td>\n",
       "      <td>-74.6</td>\n",
       "    </tr>\n",
       "    <tr>\n",
       "      <th>9</th>\n",
       "      <td>ADK</td>\n",
       "      <td>Adak Airport</td>\n",
       "      <td>Adak</td>\n",
       "      <td>AK</td>\n",
       "      <td>USA</td>\n",
       "      <td>51.9</td>\n",
       "      <td>-176.6</td>\n",
       "    </tr>\n",
       "  </tbody>\n",
       "</table style=\"display:inline; margin-right:15px;\">"
      ]
     },
     "metadata": {},
     "output_type": "display_data"
    }
   ],
   "source": [
    "display_side_by_side(_airlines_csv.head(10),_airports_csv.head(10))"
   ]
  },
  {
   "cell_type": "markdown",
   "metadata": {},
   "source": [
    "### Main Flights Dataset\n",
    "-----\n",
    "The main dataset contains 31 columns and 5,819,079 rows of data in total. The analysis code has been applied to get an understanding of the quality and completeness of the data. Columns with a high percentage of nulls were dropped from the table as they are unreliable. The team has also studied the data types of all columns, and for the numerical values involved, an analysis has been performed on the mean, median, max and min values for a better understanding of the data. A search on what column represents has also been conducted to help understand the dataset."
   ]
  },
  {
   "cell_type": "code",
   "execution_count": 5,
   "metadata": {
    "ExecuteTime": {
     "end_time": "2019-12-16T23:37:48.034360Z",
     "start_time": "2019-12-16T23:37:48.007376Z"
    },
    "scrolled": false
   },
   "outputs": [
    {
     "data": {
      "text/html": [
       "<div>\n",
       "<style scoped>\n",
       "    .dataframe tbody tr th:only-of-type {\n",
       "        vertical-align: middle;\n",
       "    }\n",
       "\n",
       "    .dataframe tbody tr th {\n",
       "        vertical-align: top;\n",
       "    }\n",
       "\n",
       "    .dataframe thead th {\n",
       "        text-align: right;\n",
       "    }\n",
       "</style>\n",
       "<table border=\"1\" class=\"dataframe\">\n",
       "  <thead>\n",
       "    <tr style=\"text-align: right;\">\n",
       "      <th></th>\n",
       "      <th>YEAR</th>\n",
       "      <th>MONTH</th>\n",
       "      <th>DAY</th>\n",
       "      <th>DAY_OF_WEEK</th>\n",
       "      <th>AIRLINE</th>\n",
       "      <th>FLIGHT_NUMBER</th>\n",
       "      <th>TAIL_NUMBER</th>\n",
       "      <th>ORIGIN_AIRPORT</th>\n",
       "      <th>DESTINATION_AIRPORT</th>\n",
       "      <th>SCHEDULED_DEPARTURE</th>\n",
       "      <th>DEPARTURE_TIME</th>\n",
       "      <th>DEPARTURE_DELAY</th>\n",
       "      <th>TAXI_OUT</th>\n",
       "      <th>WHEELS_OFF</th>\n",
       "      <th>SCHEDULED_TIME</th>\n",
       "      <th>ELAPSED_TIME</th>\n",
       "      <th>AIR_TIME</th>\n",
       "      <th>DISTANCE</th>\n",
       "      <th>WHEELS_ON</th>\n",
       "      <th>TAXI_IN</th>\n",
       "      <th>SCHEDULED_ARRIVAL</th>\n",
       "      <th>ARRIVAL_TIME</th>\n",
       "      <th>ARRIVAL_DELAY</th>\n",
       "      <th>DIVERTED</th>\n",
       "      <th>CANCELLED</th>\n",
       "      <th>CANCELLATION_REASON</th>\n",
       "      <th>AIR_SYSTEM_DELAY</th>\n",
       "      <th>SECURITY_DELAY</th>\n",
       "      <th>AIRLINE_DELAY</th>\n",
       "      <th>LATE_AIRCRAFT_DELAY</th>\n",
       "      <th>WEATHER_DELAY</th>\n",
       "    </tr>\n",
       "  </thead>\n",
       "  <tbody>\n",
       "    <tr>\n",
       "      <td>0</td>\n",
       "      <td>2015</td>\n",
       "      <td>1</td>\n",
       "      <td>1</td>\n",
       "      <td>4</td>\n",
       "      <td>AS</td>\n",
       "      <td>98</td>\n",
       "      <td>N407AS</td>\n",
       "      <td>ANC</td>\n",
       "      <td>SEA</td>\n",
       "      <td>5</td>\n",
       "      <td>2354.0</td>\n",
       "      <td>-11.0</td>\n",
       "      <td>21.0</td>\n",
       "      <td>15.0</td>\n",
       "      <td>205.0</td>\n",
       "      <td>194.0</td>\n",
       "      <td>169.0</td>\n",
       "      <td>1448</td>\n",
       "      <td>404.0</td>\n",
       "      <td>4.0</td>\n",
       "      <td>430</td>\n",
       "      <td>408.0</td>\n",
       "      <td>-22.0</td>\n",
       "      <td>0</td>\n",
       "      <td>0</td>\n",
       "      <td>NaN</td>\n",
       "      <td>nan</td>\n",
       "      <td>nan</td>\n",
       "      <td>nan</td>\n",
       "      <td>nan</td>\n",
       "      <td>nan</td>\n",
       "    </tr>\n",
       "    <tr>\n",
       "      <td>1</td>\n",
       "      <td>2015</td>\n",
       "      <td>1</td>\n",
       "      <td>1</td>\n",
       "      <td>4</td>\n",
       "      <td>AA</td>\n",
       "      <td>2336</td>\n",
       "      <td>N3KUAA</td>\n",
       "      <td>LAX</td>\n",
       "      <td>PBI</td>\n",
       "      <td>10</td>\n",
       "      <td>2.0</td>\n",
       "      <td>-8.0</td>\n",
       "      <td>12.0</td>\n",
       "      <td>14.0</td>\n",
       "      <td>280.0</td>\n",
       "      <td>279.0</td>\n",
       "      <td>263.0</td>\n",
       "      <td>2330</td>\n",
       "      <td>737.0</td>\n",
       "      <td>4.0</td>\n",
       "      <td>750</td>\n",
       "      <td>741.0</td>\n",
       "      <td>-9.0</td>\n",
       "      <td>0</td>\n",
       "      <td>0</td>\n",
       "      <td>NaN</td>\n",
       "      <td>nan</td>\n",
       "      <td>nan</td>\n",
       "      <td>nan</td>\n",
       "      <td>nan</td>\n",
       "      <td>nan</td>\n",
       "    </tr>\n",
       "    <tr>\n",
       "      <td>2</td>\n",
       "      <td>2015</td>\n",
       "      <td>1</td>\n",
       "      <td>1</td>\n",
       "      <td>4</td>\n",
       "      <td>US</td>\n",
       "      <td>840</td>\n",
       "      <td>N171US</td>\n",
       "      <td>SFO</td>\n",
       "      <td>CLT</td>\n",
       "      <td>20</td>\n",
       "      <td>18.0</td>\n",
       "      <td>-2.0</td>\n",
       "      <td>16.0</td>\n",
       "      <td>34.0</td>\n",
       "      <td>286.0</td>\n",
       "      <td>293.0</td>\n",
       "      <td>266.0</td>\n",
       "      <td>2296</td>\n",
       "      <td>800.0</td>\n",
       "      <td>11.0</td>\n",
       "      <td>806</td>\n",
       "      <td>811.0</td>\n",
       "      <td>5.0</td>\n",
       "      <td>0</td>\n",
       "      <td>0</td>\n",
       "      <td>NaN</td>\n",
       "      <td>nan</td>\n",
       "      <td>nan</td>\n",
       "      <td>nan</td>\n",
       "      <td>nan</td>\n",
       "      <td>nan</td>\n",
       "    </tr>\n",
       "    <tr>\n",
       "      <td>3</td>\n",
       "      <td>2015</td>\n",
       "      <td>1</td>\n",
       "      <td>1</td>\n",
       "      <td>4</td>\n",
       "      <td>AA</td>\n",
       "      <td>258</td>\n",
       "      <td>N3HYAA</td>\n",
       "      <td>LAX</td>\n",
       "      <td>MIA</td>\n",
       "      <td>20</td>\n",
       "      <td>15.0</td>\n",
       "      <td>-5.0</td>\n",
       "      <td>15.0</td>\n",
       "      <td>30.0</td>\n",
       "      <td>285.0</td>\n",
       "      <td>281.0</td>\n",
       "      <td>258.0</td>\n",
       "      <td>2342</td>\n",
       "      <td>748.0</td>\n",
       "      <td>8.0</td>\n",
       "      <td>805</td>\n",
       "      <td>756.0</td>\n",
       "      <td>-9.0</td>\n",
       "      <td>0</td>\n",
       "      <td>0</td>\n",
       "      <td>NaN</td>\n",
       "      <td>nan</td>\n",
       "      <td>nan</td>\n",
       "      <td>nan</td>\n",
       "      <td>nan</td>\n",
       "      <td>nan</td>\n",
       "    </tr>\n",
       "    <tr>\n",
       "      <td>4</td>\n",
       "      <td>2015</td>\n",
       "      <td>1</td>\n",
       "      <td>1</td>\n",
       "      <td>4</td>\n",
       "      <td>AS</td>\n",
       "      <td>135</td>\n",
       "      <td>N527AS</td>\n",
       "      <td>SEA</td>\n",
       "      <td>ANC</td>\n",
       "      <td>25</td>\n",
       "      <td>24.0</td>\n",
       "      <td>-1.0</td>\n",
       "      <td>11.0</td>\n",
       "      <td>35.0</td>\n",
       "      <td>235.0</td>\n",
       "      <td>215.0</td>\n",
       "      <td>199.0</td>\n",
       "      <td>1448</td>\n",
       "      <td>254.0</td>\n",
       "      <td>5.0</td>\n",
       "      <td>320</td>\n",
       "      <td>259.0</td>\n",
       "      <td>-21.0</td>\n",
       "      <td>0</td>\n",
       "      <td>0</td>\n",
       "      <td>NaN</td>\n",
       "      <td>nan</td>\n",
       "      <td>nan</td>\n",
       "      <td>nan</td>\n",
       "      <td>nan</td>\n",
       "      <td>nan</td>\n",
       "    </tr>\n",
       "    <tr>\n",
       "      <td>5</td>\n",
       "      <td>2015</td>\n",
       "      <td>1</td>\n",
       "      <td>1</td>\n",
       "      <td>4</td>\n",
       "      <td>DL</td>\n",
       "      <td>806</td>\n",
       "      <td>N3730B</td>\n",
       "      <td>SFO</td>\n",
       "      <td>MSP</td>\n",
       "      <td>25</td>\n",
       "      <td>20.0</td>\n",
       "      <td>-5.0</td>\n",
       "      <td>18.0</td>\n",
       "      <td>38.0</td>\n",
       "      <td>217.0</td>\n",
       "      <td>230.0</td>\n",
       "      <td>206.0</td>\n",
       "      <td>1589</td>\n",
       "      <td>604.0</td>\n",
       "      <td>6.0</td>\n",
       "      <td>602</td>\n",
       "      <td>610.0</td>\n",
       "      <td>8.0</td>\n",
       "      <td>0</td>\n",
       "      <td>0</td>\n",
       "      <td>NaN</td>\n",
       "      <td>nan</td>\n",
       "      <td>nan</td>\n",
       "      <td>nan</td>\n",
       "      <td>nan</td>\n",
       "      <td>nan</td>\n",
       "    </tr>\n",
       "    <tr>\n",
       "      <td>6</td>\n",
       "      <td>2015</td>\n",
       "      <td>1</td>\n",
       "      <td>1</td>\n",
       "      <td>4</td>\n",
       "      <td>NK</td>\n",
       "      <td>612</td>\n",
       "      <td>N635NK</td>\n",
       "      <td>LAS</td>\n",
       "      <td>MSP</td>\n",
       "      <td>25</td>\n",
       "      <td>19.0</td>\n",
       "      <td>-6.0</td>\n",
       "      <td>11.0</td>\n",
       "      <td>30.0</td>\n",
       "      <td>181.0</td>\n",
       "      <td>170.0</td>\n",
       "      <td>154.0</td>\n",
       "      <td>1299</td>\n",
       "      <td>504.0</td>\n",
       "      <td>5.0</td>\n",
       "      <td>526</td>\n",
       "      <td>509.0</td>\n",
       "      <td>-17.0</td>\n",
       "      <td>0</td>\n",
       "      <td>0</td>\n",
       "      <td>NaN</td>\n",
       "      <td>nan</td>\n",
       "      <td>nan</td>\n",
       "      <td>nan</td>\n",
       "      <td>nan</td>\n",
       "      <td>nan</td>\n",
       "    </tr>\n",
       "    <tr>\n",
       "      <td>7</td>\n",
       "      <td>2015</td>\n",
       "      <td>1</td>\n",
       "      <td>1</td>\n",
       "      <td>4</td>\n",
       "      <td>US</td>\n",
       "      <td>2013</td>\n",
       "      <td>N584UW</td>\n",
       "      <td>LAX</td>\n",
       "      <td>CLT</td>\n",
       "      <td>30</td>\n",
       "      <td>44.0</td>\n",
       "      <td>14.0</td>\n",
       "      <td>13.0</td>\n",
       "      <td>57.0</td>\n",
       "      <td>273.0</td>\n",
       "      <td>249.0</td>\n",
       "      <td>228.0</td>\n",
       "      <td>2125</td>\n",
       "      <td>745.0</td>\n",
       "      <td>8.0</td>\n",
       "      <td>803</td>\n",
       "      <td>753.0</td>\n",
       "      <td>-10.0</td>\n",
       "      <td>0</td>\n",
       "      <td>0</td>\n",
       "      <td>NaN</td>\n",
       "      <td>nan</td>\n",
       "      <td>nan</td>\n",
       "      <td>nan</td>\n",
       "      <td>nan</td>\n",
       "      <td>nan</td>\n",
       "    </tr>\n",
       "    <tr>\n",
       "      <td>8</td>\n",
       "      <td>2015</td>\n",
       "      <td>1</td>\n",
       "      <td>1</td>\n",
       "      <td>4</td>\n",
       "      <td>AA</td>\n",
       "      <td>1112</td>\n",
       "      <td>N3LAAA</td>\n",
       "      <td>SFO</td>\n",
       "      <td>DFW</td>\n",
       "      <td>30</td>\n",
       "      <td>19.0</td>\n",
       "      <td>-11.0</td>\n",
       "      <td>17.0</td>\n",
       "      <td>36.0</td>\n",
       "      <td>195.0</td>\n",
       "      <td>193.0</td>\n",
       "      <td>173.0</td>\n",
       "      <td>1464</td>\n",
       "      <td>529.0</td>\n",
       "      <td>3.0</td>\n",
       "      <td>545</td>\n",
       "      <td>532.0</td>\n",
       "      <td>-13.0</td>\n",
       "      <td>0</td>\n",
       "      <td>0</td>\n",
       "      <td>NaN</td>\n",
       "      <td>nan</td>\n",
       "      <td>nan</td>\n",
       "      <td>nan</td>\n",
       "      <td>nan</td>\n",
       "      <td>nan</td>\n",
       "    </tr>\n",
       "    <tr>\n",
       "      <td>9</td>\n",
       "      <td>2015</td>\n",
       "      <td>1</td>\n",
       "      <td>1</td>\n",
       "      <td>4</td>\n",
       "      <td>DL</td>\n",
       "      <td>1173</td>\n",
       "      <td>N826DN</td>\n",
       "      <td>LAS</td>\n",
       "      <td>ATL</td>\n",
       "      <td>30</td>\n",
       "      <td>33.0</td>\n",
       "      <td>3.0</td>\n",
       "      <td>12.0</td>\n",
       "      <td>45.0</td>\n",
       "      <td>221.0</td>\n",
       "      <td>203.0</td>\n",
       "      <td>186.0</td>\n",
       "      <td>1747</td>\n",
       "      <td>651.0</td>\n",
       "      <td>5.0</td>\n",
       "      <td>711</td>\n",
       "      <td>656.0</td>\n",
       "      <td>-15.0</td>\n",
       "      <td>0</td>\n",
       "      <td>0</td>\n",
       "      <td>NaN</td>\n",
       "      <td>nan</td>\n",
       "      <td>nan</td>\n",
       "      <td>nan</td>\n",
       "      <td>nan</td>\n",
       "      <td>nan</td>\n",
       "    </tr>\n",
       "  </tbody>\n",
       "</table>\n",
       "</div>"
      ],
      "text/plain": [
       "   YEAR  MONTH  DAY  DAY_OF_WEEK AIRLINE  FLIGHT_NUMBER TAIL_NUMBER  \\\n",
       "0  2015      1    1            4      AS             98      N407AS   \n",
       "1  2015      1    1            4      AA           2336      N3KUAA   \n",
       "2  2015      1    1            4      US            840      N171US   \n",
       "3  2015      1    1            4      AA            258      N3HYAA   \n",
       "4  2015      1    1            4      AS            135      N527AS   \n",
       "5  2015      1    1            4      DL            806      N3730B   \n",
       "6  2015      1    1            4      NK            612      N635NK   \n",
       "7  2015      1    1            4      US           2013      N584UW   \n",
       "8  2015      1    1            4      AA           1112      N3LAAA   \n",
       "9  2015      1    1            4      DL           1173      N826DN   \n",
       "\n",
       "  ORIGIN_AIRPORT DESTINATION_AIRPORT  SCHEDULED_DEPARTURE  DEPARTURE_TIME  \\\n",
       "0            ANC                 SEA                    5          2354.0   \n",
       "1            LAX                 PBI                   10             2.0   \n",
       "2            SFO                 CLT                   20            18.0   \n",
       "3            LAX                 MIA                   20            15.0   \n",
       "4            SEA                 ANC                   25            24.0   \n",
       "5            SFO                 MSP                   25            20.0   \n",
       "6            LAS                 MSP                   25            19.0   \n",
       "7            LAX                 CLT                   30            44.0   \n",
       "8            SFO                 DFW                   30            19.0   \n",
       "9            LAS                 ATL                   30            33.0   \n",
       "\n",
       "   DEPARTURE_DELAY  TAXI_OUT  WHEELS_OFF  SCHEDULED_TIME  ELAPSED_TIME  \\\n",
       "0            -11.0      21.0        15.0           205.0         194.0   \n",
       "1             -8.0      12.0        14.0           280.0         279.0   \n",
       "2             -2.0      16.0        34.0           286.0         293.0   \n",
       "3             -5.0      15.0        30.0           285.0         281.0   \n",
       "4             -1.0      11.0        35.0           235.0         215.0   \n",
       "5             -5.0      18.0        38.0           217.0         230.0   \n",
       "6             -6.0      11.0        30.0           181.0         170.0   \n",
       "7             14.0      13.0        57.0           273.0         249.0   \n",
       "8            -11.0      17.0        36.0           195.0         193.0   \n",
       "9              3.0      12.0        45.0           221.0         203.0   \n",
       "\n",
       "   AIR_TIME  DISTANCE  WHEELS_ON  TAXI_IN  SCHEDULED_ARRIVAL  ARRIVAL_TIME  \\\n",
       "0     169.0      1448      404.0      4.0                430         408.0   \n",
       "1     263.0      2330      737.0      4.0                750         741.0   \n",
       "2     266.0      2296      800.0     11.0                806         811.0   \n",
       "3     258.0      2342      748.0      8.0                805         756.0   \n",
       "4     199.0      1448      254.0      5.0                320         259.0   \n",
       "5     206.0      1589      604.0      6.0                602         610.0   \n",
       "6     154.0      1299      504.0      5.0                526         509.0   \n",
       "7     228.0      2125      745.0      8.0                803         753.0   \n",
       "8     173.0      1464      529.0      3.0                545         532.0   \n",
       "9     186.0      1747      651.0      5.0                711         656.0   \n",
       "\n",
       "   ARRIVAL_DELAY  DIVERTED  CANCELLED CANCELLATION_REASON  AIR_SYSTEM_DELAY  \\\n",
       "0          -22.0         0          0                 NaN               nan   \n",
       "1           -9.0         0          0                 NaN               nan   \n",
       "2            5.0         0          0                 NaN               nan   \n",
       "3           -9.0         0          0                 NaN               nan   \n",
       "4          -21.0         0          0                 NaN               nan   \n",
       "5            8.0         0          0                 NaN               nan   \n",
       "6          -17.0         0          0                 NaN               nan   \n",
       "7          -10.0         0          0                 NaN               nan   \n",
       "8          -13.0         0          0                 NaN               nan   \n",
       "9          -15.0         0          0                 NaN               nan   \n",
       "\n",
       "   SECURITY_DELAY  AIRLINE_DELAY  LATE_AIRCRAFT_DELAY  WEATHER_DELAY  \n",
       "0             nan            nan                  nan            nan  \n",
       "1             nan            nan                  nan            nan  \n",
       "2             nan            nan                  nan            nan  \n",
       "3             nan            nan                  nan            nan  \n",
       "4             nan            nan                  nan            nan  \n",
       "5             nan            nan                  nan            nan  \n",
       "6             nan            nan                  nan            nan  \n",
       "7             nan            nan                  nan            nan  \n",
       "8             nan            nan                  nan            nan  \n",
       "9             nan            nan                  nan            nan  "
      ]
     },
     "execution_count": 5,
     "metadata": {},
     "output_type": "execute_result"
    }
   ],
   "source": [
    "#Loading the Airlines DF & displaying first 10 rows\n",
    "_flights_csv.head(10)"
   ]
  },
  {
   "cell_type": "markdown",
   "metadata": {},
   "source": [
    "### Data Fields Key properties:\n",
    " * __YEAR, MONTH, DAY:__ Year (2015 for all records), Month (January, February and March only inculded) and Day (1-31).\n",
    " * __DAY_OF_WEEK:__ Range of integers (1-7) inclusive, representing (Monday to Sunday).\n",
    " * __AIRLINE, FLIGHT_NUMBER, TAIL_NUMBER:__ Identifiers of airlines (IATA codes to be translated from Airlines dataset), flights and aircrafts.\n",
    " * __ORIGIN_AIRPORT, DESTINATION_AIRPORT:__ Identifiers of start and destination airports (IATA codes to be translated from Airports dataset).\n",
    " * __SCHEDULED_DEPARTURE, DEPARTURE_TIME, DEPARTURE_DELAY, TAXI_OUT, WHEELS_OFF:__ Departure/Pre-Trip data, from planned time in hours & minutes, actual departure time (WHEEL_OFF - TAXI_OUT) , delay (actual time - planned time), the time duration elapsed between departure from the origin airport gate and wheels off, and finally, the time point that the aircratf's wheels leave the ground, consecutively.\n",
    " * __SCHEDULED_TIME, ELAPSED_TIME, AIR_TIME, DISTANCE:__ Trip execution data, from planned time needed for the flight trip in mins, the actual elapsed time (AIR_TIME + TAXI_IN + TAXI_OUT) in mins, air_time (The time duration between wheels_off and wheels_on time) in mins and distance between the two airports in miles.\n",
    " * __WHEELS_ON, TAXI_IN, SCHEDULED_ARRIVAL, ARRIVAL_TIME, ARRIVAL_DELAY:__ Arrival data, from the time point that the aircraft's wheels touch on the ground, the time duration elapsed between wheels-on and gate arrival at the destination airport, planned arrival time, actual arrival time and arrival_delay (actual time - planned time).\n",
    " * __DIVERTED, CANCELLED, CANCELLATION_REASON, AIR_SYSTEM_DELAY, SECURITY_DELAY, AIRLINE_DELAY, LATE_AIRCRAFT_DELAY, WEATHER_DELAY:__ Post-trip data on whether or not the flight was cancelled or landed on an airport out of schedule, both represented as binary values of 0 for false and 1 for true. Only for fligths where cancellation is 1 (true), a reason for cancellation is included as a Letter, such that A - Airline/Carrier; B - Weather; C - National Air System; D - Security. It is evident that weather is the most common reason for cancellation. Finally, the dataset summarizes 5 types of causes of a delay, and number of minutes of delay in each category is given. Our analysis show that reasons of delays are quite unreliable becuase there are many cases where records are missing all columns despite having an arrival delay. There are also some records with mins ditributed between more than one specific cause."
   ]
  },
  {
   "cell_type": "code",
   "execution_count": 6,
   "metadata": {
    "ExecuteTime": {
     "end_time": "2019-12-16T23:37:48.042355Z",
     "start_time": "2019-12-16T23:37:48.035359Z"
    }
   },
   "outputs": [
    {
     "data": {
      "text/plain": [
       "(1000000, 31)"
      ]
     },
     "execution_count": 6,
     "metadata": {},
     "output_type": "execute_result"
    }
   ],
   "source": [
    "#Counting rows and columns\n",
    "_flights_csv.shape"
   ]
  },
  {
   "cell_type": "code",
   "execution_count": 7,
   "metadata": {
    "ExecuteTime": {
     "end_time": "2019-12-16T23:37:48.051350Z",
     "start_time": "2019-12-16T23:37:48.044353Z"
    }
   },
   "outputs": [
    {
     "data": {
      "text/plain": [
       "YEAR                     int64\n",
       "MONTH                    int64\n",
       "DAY                      int64\n",
       "DAY_OF_WEEK              int64\n",
       "AIRLINE                 object\n",
       "FLIGHT_NUMBER            int64\n",
       "TAIL_NUMBER             object\n",
       "ORIGIN_AIRPORT          object\n",
       "DESTINATION_AIRPORT     object\n",
       "SCHEDULED_DEPARTURE      int64\n",
       "DEPARTURE_TIME         float64\n",
       "DEPARTURE_DELAY        float64\n",
       "TAXI_OUT               float64\n",
       "WHEELS_OFF             float64\n",
       "SCHEDULED_TIME         float64\n",
       "ELAPSED_TIME           float64\n",
       "AIR_TIME               float64\n",
       "DISTANCE                 int64\n",
       "WHEELS_ON              float64\n",
       "TAXI_IN                float64\n",
       "SCHEDULED_ARRIVAL        int64\n",
       "ARRIVAL_TIME           float64\n",
       "ARRIVAL_DELAY          float64\n",
       "DIVERTED                 int64\n",
       "CANCELLED                int64\n",
       "CANCELLATION_REASON     object\n",
       "AIR_SYSTEM_DELAY       float64\n",
       "SECURITY_DELAY         float64\n",
       "AIRLINE_DELAY          float64\n",
       "LATE_AIRCRAFT_DELAY    float64\n",
       "WEATHER_DELAY          float64\n",
       "dtype: object"
      ]
     },
     "execution_count": 7,
     "metadata": {},
     "output_type": "execute_result"
    }
   ],
   "source": [
    "#Viewing names and datatypes of columns\n",
    "_flights_csv.dtypes"
   ]
  },
  {
   "cell_type": "code",
   "execution_count": 8,
   "metadata": {
    "ExecuteTime": {
     "end_time": "2019-12-16T23:37:48.121309Z",
     "start_time": "2019-12-16T23:37:48.053349Z"
    }
   },
   "outputs": [
    {
     "name": "stdout",
     "output_type": "stream",
     "text": [
      "ARRIVAL TIME:\n",
      " count   959117.0\n",
      "mean      1492.8\n",
      "std        506.7\n",
      "min          1.0\n",
      "25%       1116.0\n",
      "50%       1522.0\n",
      "75%       1917.0\n",
      "max       2400.0\n",
      "Name: ARRIVAL_TIME, dtype: float64 \n",
      " YEAR \n",
      " count   1000000.0\n",
      "mean       2015.0\n",
      "std           0.0\n",
      "min        2015.0\n",
      "25%        2015.0\n",
      "50%        2015.0\n",
      "75%        2015.0\n",
      "max        2015.0\n",
      "Name: YEAR, dtype: float64\n"
     ]
    }
   ],
   "source": [
    "#Viewing data quality in important columns\n",
    "print(\"ARRIVAL TIME:\\n\", _flights_csv['ARRIVAL_TIME'].describe(), \"\\n YEAR \\n\", _flights_csv['YEAR'].describe())"
   ]
  },
  {
   "cell_type": "code",
   "execution_count": 9,
   "metadata": {
    "ExecuteTime": {
     "end_time": "2019-12-16T23:37:48.334189Z",
     "start_time": "2019-12-16T23:37:48.124308Z"
    }
   },
   "outputs": [
    {
     "data": {
      "text/plain": [
       "count     1000000\n",
       "unique         14\n",
       "top            WN\n",
       "freq       210935\n",
       "Name: AIRLINE, dtype: object"
      ]
     },
     "execution_count": 9,
     "metadata": {},
     "output_type": "execute_result"
    }
   ],
   "source": [
    "_flights_csv['AIRLINE'].describe()"
   ]
  },
  {
   "cell_type": "code",
   "execution_count": 10,
   "metadata": {
    "ExecuteTime": {
     "end_time": "2019-12-16T23:37:48.427134Z",
     "start_time": "2019-12-16T23:37:48.336187Z"
    },
    "scrolled": true
   },
   "outputs": [
    {
     "data": {
      "text/plain": [
       "count     40132\n",
       "unique        4\n",
       "top           B\n",
       "freq      28167\n",
       "Name: CANCELLATION_REASON, dtype: object"
      ]
     },
     "execution_count": 10,
     "metadata": {},
     "output_type": "execute_result"
    }
   ],
   "source": [
    "_flights_csv['CANCELLATION_REASON'].describe()"
   ]
  },
  {
   "cell_type": "code",
   "execution_count": 11,
   "metadata": {
    "ExecuteTime": {
     "end_time": "2019-12-16T23:37:48.850890Z",
     "start_time": "2019-12-16T23:37:48.429133Z"
    },
    "scrolled": true
   },
   "outputs": [
    {
     "data": {
      "text/plain": [
       "YEAR                   0.0\n",
       "MONTH                  0.0\n",
       "DAY                    0.0\n",
       "DAY_OF_WEEK            0.0\n",
       "AIRLINE                0.0\n",
       "FLIGHT_NUMBER          0.0\n",
       "TAIL_NUMBER            0.8\n",
       "ORIGIN_AIRPORT         0.0\n",
       "DESTINATION_AIRPORT    0.0\n",
       "SCHEDULED_DEPARTURE    0.0\n",
       "DEPARTURE_TIME         3.9\n",
       "DEPARTURE_DELAY        3.9\n",
       "TAXI_OUT               4.0\n",
       "WHEELS_OFF             4.0\n",
       "SCHEDULED_TIME         0.0\n",
       "ELAPSED_TIME           4.3\n",
       "AIR_TIME               4.3\n",
       "DISTANCE               0.0\n",
       "WHEELS_ON              4.1\n",
       "TAXI_IN                4.1\n",
       "SCHEDULED_ARRIVAL      0.0\n",
       "ARRIVAL_TIME           4.1\n",
       "ARRIVAL_DELAY          4.3\n",
       "DIVERTED               0.0\n",
       "CANCELLED              0.0\n",
       "CANCELLATION_REASON   96.0\n",
       "AIR_SYSTEM_DELAY      77.9\n",
       "SECURITY_DELAY        77.9\n",
       "AIRLINE_DELAY         77.9\n",
       "LATE_AIRCRAFT_DELAY   77.9\n",
       "WEATHER_DELAY         77.9\n",
       "dtype: float64"
      ]
     },
     "execution_count": 11,
     "metadata": {},
     "output_type": "execute_result"
    }
   ],
   "source": [
    "#Counting the number of null values per column as a percentage of total number of records\n",
    "_flights_csv.isnull().sum() / _flights_csv.shape[0] * 100"
   ]
  },
  {
   "cell_type": "code",
   "execution_count": 12,
   "metadata": {
    "ExecuteTime": {
     "end_time": "2019-12-16T23:37:48.968823Z",
     "start_time": "2019-12-16T23:37:48.852891Z"
    },
    "scrolled": true
   },
   "outputs": [
    {
     "name": "stdout",
     "output_type": "stream",
     "text": [
      "Before drop: Index(['YEAR', 'MONTH', 'DAY', 'DAY_OF_WEEK', 'AIRLINE', 'FLIGHT_NUMBER',\n",
      "       'TAIL_NUMBER', 'ORIGIN_AIRPORT', 'DESTINATION_AIRPORT',\n",
      "       'SCHEDULED_DEPARTURE', 'DEPARTURE_TIME', 'DEPARTURE_DELAY', 'TAXI_OUT',\n",
      "       'WHEELS_OFF', 'SCHEDULED_TIME', 'ELAPSED_TIME', 'AIR_TIME', 'DISTANCE',\n",
      "       'WHEELS_ON', 'TAXI_IN', 'SCHEDULED_ARRIVAL', 'ARRIVAL_TIME',\n",
      "       'ARRIVAL_DELAY', 'DIVERTED', 'CANCELLED', 'CANCELLATION_REASON',\n",
      "       'AIR_SYSTEM_DELAY', 'SECURITY_DELAY', 'AIRLINE_DELAY',\n",
      "       'LATE_AIRCRAFT_DELAY', 'WEATHER_DELAY'],\n",
      "      dtype='object')\n",
      "After drop: Index(['YEAR', 'MONTH', 'DAY', 'DAY_OF_WEEK', 'AIRLINE', 'FLIGHT_NUMBER',\n",
      "       'TAIL_NUMBER', 'ORIGIN_AIRPORT', 'DESTINATION_AIRPORT',\n",
      "       'SCHEDULED_DEPARTURE', 'DEPARTURE_TIME', 'DEPARTURE_DELAY', 'TAXI_OUT',\n",
      "       'WHEELS_OFF', 'SCHEDULED_TIME', 'ELAPSED_TIME', 'AIR_TIME', 'WHEELS_ON',\n",
      "       'TAXI_IN', 'SCHEDULED_ARRIVAL', 'ARRIVAL_TIME', 'ARRIVAL_DELAY',\n",
      "       'DIVERTED', 'SECURITY_DELAY', 'AIRLINE_DELAY', 'LATE_AIRCRAFT_DELAY'],\n",
      "      dtype='object')\n"
     ]
    }
   ],
   "source": [
    "#Dropping columns with the highest number of null values, this will give an error after it is run once,\n",
    "#because columns will be dropped already, so run [46] and load data again.\n",
    "\n",
    "columns_to_drop = ['CANCELLATION_REASON', 'AIR_SYSTEM_DELAY', 'WEATHER_DELAY', 'DISTANCE', 'CANCELLED']\n",
    "\n",
    "print(f\"Before drop: {_flights_csv.columns}\")\n",
    "_flights_csv.drop(columns_to_drop, axis=1, inplace=True, errors='ignore')\n",
    "print(f\"After drop: {_flights_csv.columns}\")"
   ]
  },
  {
   "cell_type": "code",
   "execution_count": 13,
   "metadata": {
    "ExecuteTime": {
     "end_time": "2019-12-16T23:37:48.974821Z",
     "start_time": "2019-12-16T23:37:48.970823Z"
    }
   },
   "outputs": [
    {
     "data": {
      "text/html": [
       "<style>\n",
       "    table {\n",
       "        display: inline-block;\n",
       "    }\n",
       "</style>"
      ],
      "text/plain": [
       "<IPython.core.display.HTML object>"
      ]
     },
     "metadata": {},
     "output_type": "display_data"
    }
   ],
   "source": [
    "%%html\n",
    "<style>\n",
    "    table {\n",
    "        display: inline-block;\n",
    "    }\n",
    "</style>"
   ]
  },
  {
   "cell_type": "markdown",
   "metadata": {},
   "source": [
    "# Proposed Questions & Expected Outputs on the Data\n",
    "\n",
    "| Question | Expected Output |\n",
    "| :-       |-----------------| \n",
    "| a. Can we predict if there will be an arrival delay on specific days of the week?  | fdsfsdfsdfsdfsd | \n",
    "| b. Can we predict if there will be an arrival delay based on the airline involved?  | dasdasdasdasdasda|\n",
    "| c. Can we predict if longer flights (distance) have higher probability of being delayed? | asdasdadsas|\n",
    "| d. Can we predict whether or not there will be a delay based on origin airport or state? | ahhjdadhakjdsh |"
   ]
  },
  {
   "cell_type": "code",
   "execution_count": 14,
   "metadata": {
    "ExecuteTime": {
     "end_time": "2019-12-16T23:37:49.116737Z",
     "start_time": "2019-12-16T23:37:48.975820Z"
    },
    "scrolled": true
   },
   "outputs": [
    {
     "data": {
      "text/html": [
       "<div>\n",
       "<style scoped>\n",
       "    .dataframe tbody tr th:only-of-type {\n",
       "        vertical-align: middle;\n",
       "    }\n",
       "\n",
       "    .dataframe tbody tr th {\n",
       "        vertical-align: top;\n",
       "    }\n",
       "\n",
       "    .dataframe thead th {\n",
       "        text-align: right;\n",
       "    }\n",
       "</style>\n",
       "<table border=\"1\" class=\"dataframe\">\n",
       "  <thead>\n",
       "    <tr style=\"text-align: right;\">\n",
       "      <th></th>\n",
       "      <th>DAY_OF_WEEK</th>\n",
       "      <th>AIRLINE</th>\n",
       "      <th>ORIGIN_AIRPORT</th>\n",
       "      <th>DEPARTURE_DELAY</th>\n",
       "      <th>ARRIVAL_DELAY</th>\n",
       "      <th>SECURITY_DELAY</th>\n",
       "      <th>AIRLINE_DELAY</th>\n",
       "      <th>LATE_AIRCRAFT_DELAY</th>\n",
       "    </tr>\n",
       "  </thead>\n",
       "  <tbody>\n",
       "    <tr>\n",
       "      <td>0</td>\n",
       "      <td>4</td>\n",
       "      <td>AS</td>\n",
       "      <td>ANC</td>\n",
       "      <td>-11.0</td>\n",
       "      <td>-22.0</td>\n",
       "      <td>nan</td>\n",
       "      <td>nan</td>\n",
       "      <td>nan</td>\n",
       "    </tr>\n",
       "    <tr>\n",
       "      <td>1</td>\n",
       "      <td>4</td>\n",
       "      <td>AA</td>\n",
       "      <td>LAX</td>\n",
       "      <td>-8.0</td>\n",
       "      <td>-9.0</td>\n",
       "      <td>nan</td>\n",
       "      <td>nan</td>\n",
       "      <td>nan</td>\n",
       "    </tr>\n",
       "    <tr>\n",
       "      <td>2</td>\n",
       "      <td>4</td>\n",
       "      <td>US</td>\n",
       "      <td>SFO</td>\n",
       "      <td>-2.0</td>\n",
       "      <td>5.0</td>\n",
       "      <td>nan</td>\n",
       "      <td>nan</td>\n",
       "      <td>nan</td>\n",
       "    </tr>\n",
       "    <tr>\n",
       "      <td>3</td>\n",
       "      <td>4</td>\n",
       "      <td>AA</td>\n",
       "      <td>LAX</td>\n",
       "      <td>-5.0</td>\n",
       "      <td>-9.0</td>\n",
       "      <td>nan</td>\n",
       "      <td>nan</td>\n",
       "      <td>nan</td>\n",
       "    </tr>\n",
       "    <tr>\n",
       "      <td>4</td>\n",
       "      <td>4</td>\n",
       "      <td>AS</td>\n",
       "      <td>SEA</td>\n",
       "      <td>-1.0</td>\n",
       "      <td>-21.0</td>\n",
       "      <td>nan</td>\n",
       "      <td>nan</td>\n",
       "      <td>nan</td>\n",
       "    </tr>\n",
       "  </tbody>\n",
       "</table>\n",
       "</div>"
      ],
      "text/plain": [
       "   DAY_OF_WEEK AIRLINE ORIGIN_AIRPORT  DEPARTURE_DELAY  ARRIVAL_DELAY  \\\n",
       "0            4      AS            ANC            -11.0          -22.0   \n",
       "1            4      AA            LAX             -8.0           -9.0   \n",
       "2            4      US            SFO             -2.0            5.0   \n",
       "3            4      AA            LAX             -5.0           -9.0   \n",
       "4            4      AS            SEA             -1.0          -21.0   \n",
       "\n",
       "   SECURITY_DELAY  AIRLINE_DELAY  LATE_AIRCRAFT_DELAY  \n",
       "0             nan            nan                  nan  \n",
       "1             nan            nan                  nan  \n",
       "2             nan            nan                  nan  \n",
       "3             nan            nan                  nan  \n",
       "4             nan            nan                  nan  "
      ]
     },
     "execution_count": 14,
     "metadata": {},
     "output_type": "execute_result"
    }
   ],
   "source": [
    "#Dropping columns of no interest in out proposed analysis: WHEELS_ON, WHEELS_OFF, YEAR, MONTH, DAY, DEPARTURE_TIME, \n",
    "#DIVERTED, TAIL_NUMBER, TAXI_IN, TAXI_OUT\n",
    "\n",
    "flights_df = _flights_csv.copy()\n",
    "\n",
    "flights_df.drop(['WHEELS_ON', 'WHEELS_OFF', 'YEAR', 'MONTH', 'DAY', 'DEPARTURE_TIME', \n",
    "'DIVERTED', 'TAIL_NUMBER', 'TAXI_IN', 'TAXI_OUT', 'DESTINATION_AIRPORT', 'FLIGHT_NUMBER', 'SCHEDULED_TIME','SCHEDULED_DEPARTURE', 'ELAPSED_TIME', 'AIR_TIME', 'SCHEDULED_ARRIVAL', 'ARRIVAL_TIME'], axis=1, inplace=True)\n",
    "flights_df.head()"
   ]
  },
  {
   "cell_type": "markdown",
   "metadata": {},
   "source": [
    "### Question A: Can we predict if there will be an arrival delay on specific days of the week?\n",
    "-------------\n",
    "Methology 1: \n"
   ]
  },
  {
   "cell_type": "code",
   "execution_count": 15,
   "metadata": {
    "ExecuteTime": {
     "end_time": "2019-12-16T23:37:49.166708Z",
     "start_time": "2019-12-16T23:37:49.118736Z"
    }
   },
   "outputs": [
    {
     "data": {
      "text/plain": [
       "DAY_OF_WEEK\n",
       "1    145159\n",
       "2    139148\n",
       "3    141753\n",
       "4    159800\n",
       "5    163070\n",
       "6    118501\n",
       "7    132569\n",
       "dtype: int64"
      ]
     },
     "execution_count": 15,
     "metadata": {},
     "output_type": "execute_result"
    }
   ],
   "source": [
    "#Checking all days of the week are represented.\n",
    "flights_df.groupby(['DAY_OF_WEEK']).size()"
   ]
  },
  {
   "cell_type": "code",
   "execution_count": 16,
   "metadata": {
    "ExecuteTime": {
     "end_time": "2019-12-16T23:37:49.243666Z",
     "start_time": "2019-12-16T23:37:49.167708Z"
    }
   },
   "outputs": [
    {
     "data": {
      "text/plain": [
       "AIRLINE\n",
       "AA     93013\n",
       "AS     28220\n",
       "B6     45965\n",
       "DL    140424\n",
       "EV    105989\n",
       "F9     14035\n",
       "HA     13506\n",
       "MQ     62828\n",
       "NK     18699\n",
       "OO    102258\n",
       "UA     83515\n",
       "US     70657\n",
       "VX      9956\n",
       "WN    210935\n",
       "dtype: int64"
      ]
     },
     "execution_count": 16,
     "metadata": {},
     "output_type": "execute_result"
    }
   ],
   "source": [
    "#Checking all deadline are represented\n",
    "flights_df.groupby(['AIRLINE']).size()"
   ]
  },
  {
   "cell_type": "code",
   "execution_count": 17,
   "metadata": {
    "ExecuteTime": {
     "end_time": "2019-12-16T23:37:49.309627Z",
     "start_time": "2019-12-16T23:37:49.244667Z"
    },
    "scrolled": true
   },
   "outputs": [
    {
     "data": {
      "text/html": [
       "<div>\n",
       "<style scoped>\n",
       "    .dataframe tbody tr th:only-of-type {\n",
       "        vertical-align: middle;\n",
       "    }\n",
       "\n",
       "    .dataframe tbody tr th {\n",
       "        vertical-align: top;\n",
       "    }\n",
       "\n",
       "    .dataframe thead th {\n",
       "        text-align: right;\n",
       "    }\n",
       "</style>\n",
       "<table border=\"1\" class=\"dataframe\">\n",
       "  <thead>\n",
       "    <tr style=\"text-align: right;\">\n",
       "      <th></th>\n",
       "      <th>DAY_OF_WEEK</th>\n",
       "      <th>AIRLINE</th>\n",
       "      <th>ORIGIN_AIRPORT</th>\n",
       "      <th>DEPARTURE_DELAY</th>\n",
       "      <th>ARRIVAL_DELAY</th>\n",
       "      <th>SECURITY_DELAY</th>\n",
       "      <th>AIRLINE_DELAY</th>\n",
       "      <th>LATE_AIRCRAFT_DELAY</th>\n",
       "    </tr>\n",
       "  </thead>\n",
       "  <tbody>\n",
       "    <tr>\n",
       "      <td>0</td>\n",
       "      <td>4</td>\n",
       "      <td>AS</td>\n",
       "      <td>ANC</td>\n",
       "      <td>-11.0</td>\n",
       "      <td>-22.0</td>\n",
       "      <td>nan</td>\n",
       "      <td>nan</td>\n",
       "      <td>nan</td>\n",
       "    </tr>\n",
       "    <tr>\n",
       "      <td>1</td>\n",
       "      <td>4</td>\n",
       "      <td>AA</td>\n",
       "      <td>LAX</td>\n",
       "      <td>-8.0</td>\n",
       "      <td>-9.0</td>\n",
       "      <td>nan</td>\n",
       "      <td>nan</td>\n",
       "      <td>nan</td>\n",
       "    </tr>\n",
       "    <tr>\n",
       "      <td>3</td>\n",
       "      <td>4</td>\n",
       "      <td>AA</td>\n",
       "      <td>LAX</td>\n",
       "      <td>-5.0</td>\n",
       "      <td>-9.0</td>\n",
       "      <td>nan</td>\n",
       "      <td>nan</td>\n",
       "      <td>nan</td>\n",
       "    </tr>\n",
       "    <tr>\n",
       "      <td>4</td>\n",
       "      <td>4</td>\n",
       "      <td>AS</td>\n",
       "      <td>SEA</td>\n",
       "      <td>-1.0</td>\n",
       "      <td>-21.0</td>\n",
       "      <td>nan</td>\n",
       "      <td>nan</td>\n",
       "      <td>nan</td>\n",
       "    </tr>\n",
       "    <tr>\n",
       "      <td>6</td>\n",
       "      <td>4</td>\n",
       "      <td>NK</td>\n",
       "      <td>LAS</td>\n",
       "      <td>-6.0</td>\n",
       "      <td>-17.0</td>\n",
       "      <td>nan</td>\n",
       "      <td>nan</td>\n",
       "      <td>nan</td>\n",
       "    </tr>\n",
       "    <tr>\n",
       "      <td>...</td>\n",
       "      <td>...</td>\n",
       "      <td>...</td>\n",
       "      <td>...</td>\n",
       "      <td>...</td>\n",
       "      <td>...</td>\n",
       "      <td>...</td>\n",
       "      <td>...</td>\n",
       "      <td>...</td>\n",
       "    </tr>\n",
       "    <tr>\n",
       "      <td>999993</td>\n",
       "      <td>6</td>\n",
       "      <td>OO</td>\n",
       "      <td>LAX</td>\n",
       "      <td>-16.0</td>\n",
       "      <td>-6.0</td>\n",
       "      <td>nan</td>\n",
       "      <td>nan</td>\n",
       "      <td>nan</td>\n",
       "    </tr>\n",
       "    <tr>\n",
       "      <td>999994</td>\n",
       "      <td>6</td>\n",
       "      <td>OO</td>\n",
       "      <td>MSP</td>\n",
       "      <td>-4.0</td>\n",
       "      <td>-13.0</td>\n",
       "      <td>nan</td>\n",
       "      <td>nan</td>\n",
       "      <td>nan</td>\n",
       "    </tr>\n",
       "    <tr>\n",
       "      <td>999995</td>\n",
       "      <td>6</td>\n",
       "      <td>OO</td>\n",
       "      <td>BOI</td>\n",
       "      <td>-3.0</td>\n",
       "      <td>-16.0</td>\n",
       "      <td>nan</td>\n",
       "      <td>nan</td>\n",
       "      <td>nan</td>\n",
       "    </tr>\n",
       "    <tr>\n",
       "      <td>999996</td>\n",
       "      <td>6</td>\n",
       "      <td>AA</td>\n",
       "      <td>DFW</td>\n",
       "      <td>3.0</td>\n",
       "      <td>-8.0</td>\n",
       "      <td>nan</td>\n",
       "      <td>nan</td>\n",
       "      <td>nan</td>\n",
       "    </tr>\n",
       "    <tr>\n",
       "      <td>999999</td>\n",
       "      <td>6</td>\n",
       "      <td>DL</td>\n",
       "      <td>MSP</td>\n",
       "      <td>-2.0</td>\n",
       "      <td>-36.0</td>\n",
       "      <td>nan</td>\n",
       "      <td>nan</td>\n",
       "      <td>nan</td>\n",
       "    </tr>\n",
       "  </tbody>\n",
       "</table>\n",
       "<p>528268 rows × 8 columns</p>\n",
       "</div>"
      ],
      "text/plain": [
       "        DAY_OF_WEEK AIRLINE ORIGIN_AIRPORT  DEPARTURE_DELAY  ARRIVAL_DELAY  \\\n",
       "0                 4      AS            ANC            -11.0          -22.0   \n",
       "1                 4      AA            LAX             -8.0           -9.0   \n",
       "3                 4      AA            LAX             -5.0           -9.0   \n",
       "4                 4      AS            SEA             -1.0          -21.0   \n",
       "6                 4      NK            LAS             -6.0          -17.0   \n",
       "...             ...     ...            ...              ...            ...   \n",
       "999993            6      OO            LAX            -16.0           -6.0   \n",
       "999994            6      OO            MSP             -4.0          -13.0   \n",
       "999995            6      OO            BOI             -3.0          -16.0   \n",
       "999996            6      AA            DFW              3.0           -8.0   \n",
       "999999            6      DL            MSP             -2.0          -36.0   \n",
       "\n",
       "        SECURITY_DELAY  AIRLINE_DELAY  LATE_AIRCRAFT_DELAY  \n",
       "0                  nan            nan                  nan  \n",
       "1                  nan            nan                  nan  \n",
       "3                  nan            nan                  nan  \n",
       "4                  nan            nan                  nan  \n",
       "6                  nan            nan                  nan  \n",
       "...                ...            ...                  ...  \n",
       "999993             nan            nan                  nan  \n",
       "999994             nan            nan                  nan  \n",
       "999995             nan            nan                  nan  \n",
       "999996             nan            nan                  nan  \n",
       "999999             nan            nan                  nan  \n",
       "\n",
       "[528268 rows x 8 columns]"
      ]
     },
     "execution_count": 17,
     "metadata": {},
     "output_type": "execute_result"
    }
   ],
   "source": [
    "flights_df.loc[flights_df['ARRIVAL_DELAY'] < 0]"
   ]
  },
  {
   "cell_type": "code",
   "execution_count": 18,
   "metadata": {
    "ExecuteTime": {
     "end_time": "2019-12-16T23:37:49.551488Z",
     "start_time": "2019-12-16T23:37:49.310626Z"
    }
   },
   "outputs": [],
   "source": [
    "#Dropping rows with negative delay.\n",
    "flights_df.drop(flights_df[flights_df['ARRIVAL_DELAY'] < 0].index, inplace=True)"
   ]
  },
  {
   "cell_type": "code",
   "execution_count": 19,
   "metadata": {
    "ExecuteTime": {
     "end_time": "2019-12-16T23:37:49.564482Z",
     "start_time": "2019-12-16T23:37:49.552487Z"
    }
   },
   "outputs": [
    {
     "data": {
      "text/html": [
       "<div>\n",
       "<style scoped>\n",
       "    .dataframe tbody tr th:only-of-type {\n",
       "        vertical-align: middle;\n",
       "    }\n",
       "\n",
       "    .dataframe tbody tr th {\n",
       "        vertical-align: top;\n",
       "    }\n",
       "\n",
       "    .dataframe thead th {\n",
       "        text-align: right;\n",
       "    }\n",
       "</style>\n",
       "<table border=\"1\" class=\"dataframe\">\n",
       "  <thead>\n",
       "    <tr style=\"text-align: right;\">\n",
       "      <th></th>\n",
       "      <th>DAY_OF_WEEK</th>\n",
       "      <th>AIRLINE</th>\n",
       "      <th>ORIGIN_AIRPORT</th>\n",
       "      <th>DEPARTURE_DELAY</th>\n",
       "      <th>ARRIVAL_DELAY</th>\n",
       "      <th>SECURITY_DELAY</th>\n",
       "      <th>AIRLINE_DELAY</th>\n",
       "      <th>LATE_AIRCRAFT_DELAY</th>\n",
       "    </tr>\n",
       "  </thead>\n",
       "  <tbody>\n",
       "  </tbody>\n",
       "</table>\n",
       "</div>"
      ],
      "text/plain": [
       "Empty DataFrame\n",
       "Columns: [DAY_OF_WEEK, AIRLINE, ORIGIN_AIRPORT, DEPARTURE_DELAY, ARRIVAL_DELAY, SECURITY_DELAY, AIRLINE_DELAY, LATE_AIRCRAFT_DELAY]\n",
       "Index: []"
      ]
     },
     "execution_count": 19,
     "metadata": {},
     "output_type": "execute_result"
    }
   ],
   "source": [
    "#Checking it is working\n",
    "flights_df.loc[flights_df['ARRIVAL_DELAY'] < 0]"
   ]
  },
  {
   "cell_type": "code",
   "execution_count": 20,
   "metadata": {
    "ExecuteTime": {
     "end_time": "2019-12-16T23:37:49.728386Z",
     "start_time": "2019-12-16T23:37:49.570478Z"
    }
   },
   "outputs": [
    {
     "data": {
      "text/html": [
       "<div>\n",
       "<style scoped>\n",
       "    .dataframe tbody tr th:only-of-type {\n",
       "        vertical-align: middle;\n",
       "    }\n",
       "\n",
       "    .dataframe tbody tr th {\n",
       "        vertical-align: top;\n",
       "    }\n",
       "\n",
       "    .dataframe thead th {\n",
       "        text-align: right;\n",
       "    }\n",
       "</style>\n",
       "<table border=\"1\" class=\"dataframe\">\n",
       "  <thead>\n",
       "    <tr style=\"text-align: right;\">\n",
       "      <th></th>\n",
       "      <th>DAY_OF_WEEK</th>\n",
       "      <th>DEPARTURE_DELAY</th>\n",
       "      <th>ARRIVAL_DELAY</th>\n",
       "      <th>SECURITY_DELAY</th>\n",
       "      <th>AIRLINE_DELAY</th>\n",
       "      <th>LATE_AIRCRAFT_DELAY</th>\n",
       "    </tr>\n",
       "  </thead>\n",
       "  <tbody>\n",
       "    <tr>\n",
       "      <td>count</td>\n",
       "      <td>471732.0</td>\n",
       "      <td>432574.0</td>\n",
       "      <td>429126.0</td>\n",
       "      <td>221041.0</td>\n",
       "      <td>221041.0</td>\n",
       "      <td>221041.0</td>\n",
       "    </tr>\n",
       "    <tr>\n",
       "      <td>mean</td>\n",
       "      <td>3.9</td>\n",
       "      <td>29.0</td>\n",
       "      <td>33.0</td>\n",
       "      <td>0.1</td>\n",
       "      <td>18.0</td>\n",
       "      <td>23.0</td>\n",
       "    </tr>\n",
       "    <tr>\n",
       "      <td>std</td>\n",
       "      <td>2.0</td>\n",
       "      <td>53.5</td>\n",
       "      <td>52.7</td>\n",
       "      <td>1.8</td>\n",
       "      <td>46.0</td>\n",
       "      <td>41.9</td>\n",
       "    </tr>\n",
       "    <tr>\n",
       "      <td>min</td>\n",
       "      <td>1.0</td>\n",
       "      <td>-42.0</td>\n",
       "      <td>0.0</td>\n",
       "      <td>0.0</td>\n",
       "      <td>0.0</td>\n",
       "      <td>0.0</td>\n",
       "    </tr>\n",
       "    <tr>\n",
       "      <td>25%</td>\n",
       "      <td>2.0</td>\n",
       "      <td>0.0</td>\n",
       "      <td>5.0</td>\n",
       "      <td>0.0</td>\n",
       "      <td>0.0</td>\n",
       "      <td>0.0</td>\n",
       "    </tr>\n",
       "    <tr>\n",
       "      <td>50%</td>\n",
       "      <td>4.0</td>\n",
       "      <td>13.0</td>\n",
       "      <td>15.0</td>\n",
       "      <td>0.0</td>\n",
       "      <td>2.0</td>\n",
       "      <td>4.0</td>\n",
       "    </tr>\n",
       "    <tr>\n",
       "      <td>75%</td>\n",
       "      <td>5.0</td>\n",
       "      <td>37.0</td>\n",
       "      <td>39.0</td>\n",
       "      <td>0.0</td>\n",
       "      <td>18.0</td>\n",
       "      <td>29.0</td>\n",
       "    </tr>\n",
       "    <tr>\n",
       "      <td>max</td>\n",
       "      <td>7.0</td>\n",
       "      <td>1988.0</td>\n",
       "      <td>1971.0</td>\n",
       "      <td>241.0</td>\n",
       "      <td>1971.0</td>\n",
       "      <td>1313.0</td>\n",
       "    </tr>\n",
       "  </tbody>\n",
       "</table>\n",
       "</div>"
      ],
      "text/plain": [
       "       DAY_OF_WEEK  DEPARTURE_DELAY  ARRIVAL_DELAY  SECURITY_DELAY  \\\n",
       "count     471732.0         432574.0       429126.0        221041.0   \n",
       "mean           3.9             29.0           33.0             0.1   \n",
       "std            2.0             53.5           52.7             1.8   \n",
       "min            1.0            -42.0            0.0             0.0   \n",
       "25%            2.0              0.0            5.0             0.0   \n",
       "50%            4.0             13.0           15.0             0.0   \n",
       "75%            5.0             37.0           39.0             0.0   \n",
       "max            7.0           1988.0         1971.0           241.0   \n",
       "\n",
       "       AIRLINE_DELAY  LATE_AIRCRAFT_DELAY  \n",
       "count       221041.0             221041.0  \n",
       "mean            18.0                 23.0  \n",
       "std             46.0                 41.9  \n",
       "min              0.0                  0.0  \n",
       "25%              0.0                  0.0  \n",
       "50%              2.0                  4.0  \n",
       "75%             18.0                 29.0  \n",
       "max           1971.0               1313.0  "
      ]
     },
     "execution_count": 20,
     "metadata": {},
     "output_type": "execute_result"
    }
   ],
   "source": [
    "#Final check on the individual columns in the dataset berfore splitting\n",
    "flights_df.describe()"
   ]
  },
  {
   "cell_type": "code",
   "execution_count": 21,
   "metadata": {
    "ExecuteTime": {
     "end_time": "2019-12-16T23:37:49.931270Z",
     "start_time": "2019-12-16T23:37:49.730385Z"
    }
   },
   "outputs": [
    {
     "data": {
      "text/plain": [
       "count     471732\n",
       "unique         2\n",
       "top        False\n",
       "freq      390548\n",
       "dtype: object"
      ]
     },
     "execution_count": 21,
     "metadata": {},
     "output_type": "execute_result"
    }
   ],
   "source": [
    "#Checking that no duplicated records exist.\n",
    "(flights_df.duplicated(subset=None, keep='first')).describe()"
   ]
  },
  {
   "cell_type": "code",
   "execution_count": 22,
   "metadata": {
    "ExecuteTime": {
     "end_time": "2019-12-16T23:37:50.186125Z",
     "start_time": "2019-12-16T23:37:49.933269Z"
    }
   },
   "outputs": [
    {
     "name": "stdout",
     "output_type": "stream",
     "text": [
      "Training DF: 377338\n",
      "Validation DF: 94394\n"
     ]
    }
   ],
   "source": [
    "#Shuffling the dataset first\n",
    "flights_df = flights_df.reindex(np.random.permutation(flights_df.index))\n",
    "#Splitting the dataset into Validation/Testing\n",
    "mask = np.random.rand(len(flights_df)) < 0.8\n",
    "trainDF = pd.DataFrame(flights_df[mask])\n",
    "validationDF = pd.DataFrame(flights_df[~mask])\n",
    "\n",
    "print(f\"Training DF: {len(trainDF)}\")\n",
    "print(f\"Validation DF: {len(validationDF)}\")"
   ]
  },
  {
   "cell_type": "markdown",
   "metadata": {},
   "source": [
    "### Basics of the API\n",
    "\n",
    "Most commonly, the steps in using the Scikit-Learn estimator API are as follows:\n",
    "\n",
    "1. Choose a class of model by importing the appropriate estimator class from Scikit-Learn.\n",
    "2. Choose model hyperparameters by instantiating this class with desired values.\n",
    "3. Arrange data into a features matrix and target vector following the discussion above.\n",
    "4. Fit the model to your data by calling the **fit()** method of the model instance.\n",
    "5. Apply the Model to new data:\n",
    "\n",
    "\n",
    "- For supervised learning, often we predict labels for unknown data using the **predict()** method.\n",
    "- For unsupervised learning, we often transform or infer properties of the data using the **transform()** or "
   ]
  },
  {
   "cell_type": "code",
   "execution_count": 23,
   "metadata": {
    "ExecuteTime": {
     "end_time": "2019-12-16T23:37:50.243091Z",
     "start_time": "2019-12-16T23:37:50.188123Z"
    }
   },
   "outputs": [
    {
     "name": "stdout",
     "output_type": "stream",
     "text": [
      "DAY_OF_WEEK            False\n",
      "AIRLINE                False\n",
      "ORIGIN_AIRPORT         False\n",
      "DEPARTURE_DELAY         True\n",
      "ARRIVAL_DELAY           True\n",
      "SECURITY_DELAY          True\n",
      "AIRLINE_DELAY           True\n",
      "LATE_AIRCRAFT_DELAY     True\n",
      "dtype: bool\n"
     ]
    }
   ],
   "source": [
    "print(flights_df.isnull().any())"
   ]
  },
  {
   "cell_type": "code",
   "execution_count": 24,
   "metadata": {
    "ExecuteTime": {
     "end_time": "2019-12-16T23:37:50.369018Z",
     "start_time": "2019-12-16T23:37:50.245091Z"
    }
   },
   "outputs": [
    {
     "name": "stdout",
     "output_type": "stream",
     "text": [
      "DAY_OF_WEEK            False\n",
      "AIRLINE                False\n",
      "ORIGIN_AIRPORT         False\n",
      "DEPARTURE_DELAY        False\n",
      "ARRIVAL_DELAY          False\n",
      "SECURITY_DELAY         False\n",
      "AIRLINE_DELAY          False\n",
      "LATE_AIRCRAFT_DELAY    False\n",
      "dtype: bool\n"
     ]
    }
   ],
   "source": [
    "#Dropping all Null values\n",
    "flights_df = flights_df.dropna()\n",
    "print(flights_df.isnull().any())"
   ]
  },
  {
   "cell_type": "code",
   "execution_count": 25,
   "metadata": {
    "ExecuteTime": {
     "end_time": "2019-12-16T23:37:50.389007Z",
     "start_time": "2019-12-16T23:37:50.370018Z"
    }
   },
   "outputs": [
    {
     "data": {
      "text/html": [
       "<div>\n",
       "<style scoped>\n",
       "    .dataframe tbody tr th:only-of-type {\n",
       "        vertical-align: middle;\n",
       "    }\n",
       "\n",
       "    .dataframe tbody tr th {\n",
       "        vertical-align: top;\n",
       "    }\n",
       "\n",
       "    .dataframe thead th {\n",
       "        text-align: right;\n",
       "    }\n",
       "</style>\n",
       "<table border=\"1\" class=\"dataframe\">\n",
       "  <thead>\n",
       "    <tr style=\"text-align: right;\">\n",
       "      <th></th>\n",
       "      <th>DAY_OF_WEEK</th>\n",
       "      <th>AIRLINE</th>\n",
       "      <th>ORIGIN_AIRPORT</th>\n",
       "      <th>DEPARTURE_DELAY</th>\n",
       "      <th>ARRIVAL_DELAY</th>\n",
       "      <th>SECURITY_DELAY</th>\n",
       "      <th>AIRLINE_DELAY</th>\n",
       "      <th>LATE_AIRCRAFT_DELAY</th>\n",
       "    </tr>\n",
       "  </thead>\n",
       "  <tbody>\n",
       "    <tr>\n",
       "      <td>661054</td>\n",
       "      <td>5</td>\n",
       "      <td>OO</td>\n",
       "      <td>MSP</td>\n",
       "      <td>63.0</td>\n",
       "      <td>58.0</td>\n",
       "      <td>0.0</td>\n",
       "      <td>0.0</td>\n",
       "      <td>58.0</td>\n",
       "    </tr>\n",
       "    <tr>\n",
       "      <td>835102</td>\n",
       "      <td>2</td>\n",
       "      <td>DL</td>\n",
       "      <td>ATL</td>\n",
       "      <td>152.0</td>\n",
       "      <td>133.0</td>\n",
       "      <td>0.0</td>\n",
       "      <td>0.0</td>\n",
       "      <td>103.0</td>\n",
       "    </tr>\n",
       "    <tr>\n",
       "      <td>70647</td>\n",
       "      <td>1</td>\n",
       "      <td>EV</td>\n",
       "      <td>FAR</td>\n",
       "      <td>36.0</td>\n",
       "      <td>21.0</td>\n",
       "      <td>0.0</td>\n",
       "      <td>0.0</td>\n",
       "      <td>21.0</td>\n",
       "    </tr>\n",
       "    <tr>\n",
       "      <td>328756</td>\n",
       "      <td>4</td>\n",
       "      <td>WN</td>\n",
       "      <td>SFO</td>\n",
       "      <td>41.0</td>\n",
       "      <td>35.0</td>\n",
       "      <td>0.0</td>\n",
       "      <td>4.0</td>\n",
       "      <td>31.0</td>\n",
       "    </tr>\n",
       "    <tr>\n",
       "      <td>749221</td>\n",
       "      <td>4</td>\n",
       "      <td>MQ</td>\n",
       "      <td>ORD</td>\n",
       "      <td>74.0</td>\n",
       "      <td>63.0</td>\n",
       "      <td>0.0</td>\n",
       "      <td>63.0</td>\n",
       "      <td>0.0</td>\n",
       "    </tr>\n",
       "    <tr>\n",
       "      <td>...</td>\n",
       "      <td>...</td>\n",
       "      <td>...</td>\n",
       "      <td>...</td>\n",
       "      <td>...</td>\n",
       "      <td>...</td>\n",
       "      <td>...</td>\n",
       "      <td>...</td>\n",
       "      <td>...</td>\n",
       "    </tr>\n",
       "    <tr>\n",
       "      <td>811658</td>\n",
       "      <td>1</td>\n",
       "      <td>EV</td>\n",
       "      <td>CVG</td>\n",
       "      <td>21.0</td>\n",
       "      <td>17.0</td>\n",
       "      <td>0.0</td>\n",
       "      <td>0.0</td>\n",
       "      <td>4.0</td>\n",
       "    </tr>\n",
       "    <tr>\n",
       "      <td>586029</td>\n",
       "      <td>7</td>\n",
       "      <td>WN</td>\n",
       "      <td>SEA</td>\n",
       "      <td>4.0</td>\n",
       "      <td>19.0</td>\n",
       "      <td>0.0</td>\n",
       "      <td>0.0</td>\n",
       "      <td>0.0</td>\n",
       "    </tr>\n",
       "    <tr>\n",
       "      <td>9686</td>\n",
       "      <td>4</td>\n",
       "      <td>UA</td>\n",
       "      <td>DEN</td>\n",
       "      <td>41.0</td>\n",
       "      <td>49.0</td>\n",
       "      <td>0.0</td>\n",
       "      <td>18.0</td>\n",
       "      <td>23.0</td>\n",
       "    </tr>\n",
       "    <tr>\n",
       "      <td>780989</td>\n",
       "      <td>6</td>\n",
       "      <td>EV</td>\n",
       "      <td>ATL</td>\n",
       "      <td>28.0</td>\n",
       "      <td>27.0</td>\n",
       "      <td>0.0</td>\n",
       "      <td>27.0</td>\n",
       "      <td>0.0</td>\n",
       "    </tr>\n",
       "    <tr>\n",
       "      <td>43595</td>\n",
       "      <td>6</td>\n",
       "      <td>WN</td>\n",
       "      <td>CHS</td>\n",
       "      <td>15.0</td>\n",
       "      <td>16.0</td>\n",
       "      <td>0.0</td>\n",
       "      <td>11.0</td>\n",
       "      <td>4.0</td>\n",
       "    </tr>\n",
       "  </tbody>\n",
       "</table>\n",
       "<p>221041 rows × 8 columns</p>\n",
       "</div>"
      ],
      "text/plain": [
       "        DAY_OF_WEEK AIRLINE ORIGIN_AIRPORT  DEPARTURE_DELAY  ARRIVAL_DELAY  \\\n",
       "661054            5      OO            MSP             63.0           58.0   \n",
       "835102            2      DL            ATL            152.0          133.0   \n",
       "70647             1      EV            FAR             36.0           21.0   \n",
       "328756            4      WN            SFO             41.0           35.0   \n",
       "749221            4      MQ            ORD             74.0           63.0   \n",
       "...             ...     ...            ...              ...            ...   \n",
       "811658            1      EV            CVG             21.0           17.0   \n",
       "586029            7      WN            SEA              4.0           19.0   \n",
       "9686              4      UA            DEN             41.0           49.0   \n",
       "780989            6      EV            ATL             28.0           27.0   \n",
       "43595             6      WN            CHS             15.0           16.0   \n",
       "\n",
       "        SECURITY_DELAY  AIRLINE_DELAY  LATE_AIRCRAFT_DELAY  \n",
       "661054             0.0            0.0                 58.0  \n",
       "835102             0.0            0.0                103.0  \n",
       "70647              0.0            0.0                 21.0  \n",
       "328756             0.0            4.0                 31.0  \n",
       "749221             0.0           63.0                  0.0  \n",
       "...                ...            ...                  ...  \n",
       "811658             0.0            0.0                  4.0  \n",
       "586029             0.0            0.0                  0.0  \n",
       "9686               0.0           18.0                 23.0  \n",
       "780989             0.0           27.0                  0.0  \n",
       "43595              0.0           11.0                  4.0  \n",
       "\n",
       "[221041 rows x 8 columns]"
      ]
     },
     "execution_count": 25,
     "metadata": {},
     "output_type": "execute_result"
    }
   ],
   "source": [
    "flights_df"
   ]
  },
  {
   "cell_type": "code",
   "execution_count": 26,
   "metadata": {
    "ExecuteTime": {
     "end_time": "2019-12-16T23:37:51.698255Z",
     "start_time": "2019-12-16T23:37:50.391006Z"
    }
   },
   "outputs": [
    {
     "data": {
      "image/png": "[encoded data removed]",
      "text/plain": [
       "<Figure size 432x288 with 1 Axes>"
      ]
     },
     "metadata": {
      "needs_background": "light"
     },
     "output_type": "display_data"
    }
   ],
   "source": [
    "#Before performing Linear Regression, first checking correlation betweeb day of the week and arrival delay.\n",
    "flights_df.plot(x='DAY_OF_WEEK', y='ARRIVAL_DELAY', style='o')  \n",
    "plt.title('WEEKDAY VS DELAY')  \n",
    "plt.xlabel('weekday')  \n",
    "plt.ylabel('delay')  \n",
    "plt.show()"
   ]
  },
  {
   "cell_type": "code",
   "execution_count": 27,
   "metadata": {
    "ExecuteTime": {
     "end_time": "2019-12-16T23:37:52.901563Z",
     "start_time": "2019-12-16T23:37:51.700254Z"
    }
   },
   "outputs": [
    {
     "data": {
      "image/png": "[encoded data removed]",
      "text/plain": [
       "<Figure size 432x288 with 1 Axes>"
      ]
     },
     "metadata": {
      "needs_background": "light"
     },
     "output_type": "display_data"
    }
   ],
   "source": [
    "#Before performing Linear Regression, first checking correlation betweeb day of the week and arrival delay.\n",
    "flights_df.plot(x='AIRLINE', y='ARRIVAL_DELAY', style='o')  \n",
    "plt.title('AIRLINE VS DELAY')  \n",
    "plt.xlabel('airline')  \n",
    "plt.ylabel('delay')  \n",
    "plt.show()\n",
    "##LINEAR REGRESSION CANNOT BE BERFORMED ON THAT PAIR BECAUSE AIRLINE IS NOT NUMERIC!"
   ]
  },
  {
   "cell_type": "code",
   "execution_count": 28,
   "metadata": {
    "ExecuteTime": {
     "end_time": "2019-12-16T23:37:52.986514Z",
     "start_time": "2019-12-16T23:37:52.903563Z"
    }
   },
   "outputs": [
    {
     "name": "stdout",
     "output_type": "stream",
     "text": [
      "[[0.29016292]]\n"
     ]
    }
   ],
   "source": [
    "X = flights_df['DAY_OF_WEEK'].values.reshape(-1,1)\n",
    "y = flights_df['ARRIVAL_DELAY'].values.reshape(-1,1)\n",
    "\n",
    "#split data into testing and training\n",
    "X_train, X_test, y_train, y_test = train_test_split(X, y, test_size=0.2, random_state=0)\n",
    "\n",
    "# build the model\n",
    "model = LinearRegression()  \n",
    "model.fit(X_train, y_train)\n",
    "\n",
    "print(model.coef_)"
   ]
  },
  {
   "cell_type": "code",
   "execution_count": 29,
   "metadata": {
    "ExecuteTime": {
     "end_time": "2019-12-16T23:37:52.998508Z",
     "start_time": "2019-12-16T23:37:52.988514Z"
    }
   },
   "outputs": [
    {
     "name": "stdout",
     "output_type": "stream",
     "text": [
      "    Actual  Predicted\n",
      "0    119.0       58.1\n",
      "1     39.0       58.4\n",
      "2     84.0       58.6\n",
      "3     21.0       57.8\n",
      "4     30.0       59.2\n",
      "5     17.0       59.5\n",
      "6     18.0       58.1\n",
      "7     50.0       59.2\n",
      "8     28.0       58.4\n",
      "9     80.0       57.8\n",
      "10    15.0       58.6\n",
      "11    15.0       57.8\n",
      "12    82.0       58.6\n",
      "13   143.0       58.9\n",
      "14    23.0       58.9\n",
      "15    25.0       58.9\n",
      "16   104.0       57.8\n",
      "17    31.0       58.4\n",
      "18    18.0       59.5\n",
      "19    70.0       58.1\n",
      "20    54.0       59.5\n",
      "21    29.0       59.2\n",
      "22    26.0       57.8\n",
      "23    37.0       58.1\n",
      "24    22.0       57.8\n"
     ]
    }
   ],
   "source": [
    "#calculate the predictions of the linear regression model\n",
    "y_pred = model.predict(X_test)\n",
    "\n",
    "#build a new data frame with two columns, the actual values of the test data, \n",
    "#and the predictions of the model\n",
    "df_compare = pd.DataFrame({'Actual': y_test.flatten(), 'Predicted': y_pred.flatten()})\n",
    "df_head = df_compare.head(25)\n",
    "print(df_head)"
   ]
  },
  {
   "cell_type": "markdown",
   "metadata": {},
   "source": [
    "### Question D: Can we predict whether there will be a delay based on origin airport, airline and day of the week?"
   ]
  },
  {
   "cell_type": "markdown",
   "metadata": {},
   "source": [
    "Here, we're going to train a model to predict whether a plane will depart early or late depending on day of the week, from which airport it's flying from and with which airline the flight is associated with.\n",
    "\n",
    "To train our model we need necessary data. From our dataset, we'll gather the following:\n",
    "\n",
    "* AIRLINE\n",
    "* ORIGIN_AIRPORT\n",
    "* DAY_OF_WEEK\n",
    "* ARRIVAL_DELAY\n",
    "* SECURITY_DELAY\n",
    "* LATE_AIRCRAFT_DELAY\n",
    "\n",
    "#### Preparing data\n",
    "\n",
    "First, let's get a copy of raw _flights.cv_ data and keep only columns we need (as mentioned above)."
   ]
  },
  {
   "cell_type": "code",
   "execution_count": 30,
   "metadata": {
    "ExecuteTime": {
     "end_time": "2019-12-16T23:37:53.145424Z",
     "start_time": "2019-12-16T23:37:53.000507Z"
    }
   },
   "outputs": [
    {
     "name": "stdout",
     "output_type": "stream",
     "text": [
      "Total rows: 1,000,000\n"
     ]
    },
    {
     "data": {
      "text/html": [
       "<div>\n",
       "<style scoped>\n",
       "    .dataframe tbody tr th:only-of-type {\n",
       "        vertical-align: middle;\n",
       "    }\n",
       "\n",
       "    .dataframe tbody tr th {\n",
       "        vertical-align: top;\n",
       "    }\n",
       "\n",
       "    .dataframe thead th {\n",
       "        text-align: right;\n",
       "    }\n",
       "</style>\n",
       "<table border=\"1\" class=\"dataframe\">\n",
       "  <thead>\n",
       "    <tr style=\"text-align: right;\">\n",
       "      <th></th>\n",
       "      <th>AIRLINE</th>\n",
       "      <th>ORIGIN_AIRPORT</th>\n",
       "      <th>DAY_OF_WEEK</th>\n",
       "      <th>ARRIVAL_DELAY</th>\n",
       "      <th>SECURITY_DELAY</th>\n",
       "      <th>LATE_AIRCRAFT_DELAY</th>\n",
       "    </tr>\n",
       "  </thead>\n",
       "  <tbody>\n",
       "    <tr>\n",
       "      <td>0</td>\n",
       "      <td>AS</td>\n",
       "      <td>ANC</td>\n",
       "      <td>4</td>\n",
       "      <td>-22.0</td>\n",
       "      <td>nan</td>\n",
       "      <td>nan</td>\n",
       "    </tr>\n",
       "    <tr>\n",
       "      <td>1</td>\n",
       "      <td>AA</td>\n",
       "      <td>LAX</td>\n",
       "      <td>4</td>\n",
       "      <td>-9.0</td>\n",
       "      <td>nan</td>\n",
       "      <td>nan</td>\n",
       "    </tr>\n",
       "    <tr>\n",
       "      <td>2</td>\n",
       "      <td>US</td>\n",
       "      <td>SFO</td>\n",
       "      <td>4</td>\n",
       "      <td>5.0</td>\n",
       "      <td>nan</td>\n",
       "      <td>nan</td>\n",
       "    </tr>\n",
       "    <tr>\n",
       "      <td>3</td>\n",
       "      <td>AA</td>\n",
       "      <td>LAX</td>\n",
       "      <td>4</td>\n",
       "      <td>-9.0</td>\n",
       "      <td>nan</td>\n",
       "      <td>nan</td>\n",
       "    </tr>\n",
       "    <tr>\n",
       "      <td>4</td>\n",
       "      <td>AS</td>\n",
       "      <td>SEA</td>\n",
       "      <td>4</td>\n",
       "      <td>-21.0</td>\n",
       "      <td>nan</td>\n",
       "      <td>nan</td>\n",
       "    </tr>\n",
       "    <tr>\n",
       "      <td>5</td>\n",
       "      <td>DL</td>\n",
       "      <td>SFO</td>\n",
       "      <td>4</td>\n",
       "      <td>8.0</td>\n",
       "      <td>nan</td>\n",
       "      <td>nan</td>\n",
       "    </tr>\n",
       "    <tr>\n",
       "      <td>6</td>\n",
       "      <td>NK</td>\n",
       "      <td>LAS</td>\n",
       "      <td>4</td>\n",
       "      <td>-17.0</td>\n",
       "      <td>nan</td>\n",
       "      <td>nan</td>\n",
       "    </tr>\n",
       "    <tr>\n",
       "      <td>7</td>\n",
       "      <td>US</td>\n",
       "      <td>LAX</td>\n",
       "      <td>4</td>\n",
       "      <td>-10.0</td>\n",
       "      <td>nan</td>\n",
       "      <td>nan</td>\n",
       "    </tr>\n",
       "    <tr>\n",
       "      <td>8</td>\n",
       "      <td>AA</td>\n",
       "      <td>SFO</td>\n",
       "      <td>4</td>\n",
       "      <td>-13.0</td>\n",
       "      <td>nan</td>\n",
       "      <td>nan</td>\n",
       "    </tr>\n",
       "    <tr>\n",
       "      <td>9</td>\n",
       "      <td>DL</td>\n",
       "      <td>LAS</td>\n",
       "      <td>4</td>\n",
       "      <td>-15.0</td>\n",
       "      <td>nan</td>\n",
       "      <td>nan</td>\n",
       "    </tr>\n",
       "  </tbody>\n",
       "</table>\n",
       "</div>"
      ],
      "text/plain": [
       "  AIRLINE ORIGIN_AIRPORT  DAY_OF_WEEK  ARRIVAL_DELAY  SECURITY_DELAY  \\\n",
       "0      AS            ANC            4          -22.0             nan   \n",
       "1      AA            LAX            4           -9.0             nan   \n",
       "2      US            SFO            4            5.0             nan   \n",
       "3      AA            LAX            4           -9.0             nan   \n",
       "4      AS            SEA            4          -21.0             nan   \n",
       "5      DL            SFO            4            8.0             nan   \n",
       "6      NK            LAS            4          -17.0             nan   \n",
       "7      US            LAX            4          -10.0             nan   \n",
       "8      AA            SFO            4          -13.0             nan   \n",
       "9      DL            LAS            4          -15.0             nan   \n",
       "\n",
       "   LATE_AIRCRAFT_DELAY  \n",
       "0                  nan  \n",
       "1                  nan  \n",
       "2                  nan  \n",
       "3                  nan  \n",
       "4                  nan  \n",
       "5                  nan  \n",
       "6                  nan  \n",
       "7                  nan  \n",
       "8                  nan  \n",
       "9                  nan  "
      ]
     },
     "execution_count": 30,
     "metadata": {},
     "output_type": "execute_result"
    }
   ],
   "source": [
    "required_columns = ['AIRLINE', 'ORIGIN_AIRPORT', 'DAY_OF_WEEK', 'ARRIVAL_DELAY', 'SECURITY_DELAY', 'LATE_AIRCRAFT_DELAY']\n",
    "\n",
    "flights_df = _flights_csv.copy()\n",
    "flights_df = flights_df[required_columns]\n",
    "print(f'Total rows: {flights_df.shape[0]:,}')\n",
    "flights_df.head(10)"
   ]
  },
  {
   "cell_type": "markdown",
   "metadata": {},
   "source": [
    "We have some pieces of data that are empty. Let's drop all rows which have at least 1 null column."
   ]
  },
  {
   "cell_type": "code",
   "execution_count": 31,
   "metadata": {
    "ExecuteTime": {
     "end_time": "2019-12-16T23:37:53.329318Z",
     "start_time": "2019-12-16T23:37:53.147422Z"
    }
   },
   "outputs": [
    {
     "name": "stdout",
     "output_type": "stream",
     "text": [
      "Total rows: 221,041\n"
     ]
    },
    {
     "data": {
      "text/html": [
       "<div>\n",
       "<style scoped>\n",
       "    .dataframe tbody tr th:only-of-type {\n",
       "        vertical-align: middle;\n",
       "    }\n",
       "\n",
       "    .dataframe tbody tr th {\n",
       "        vertical-align: top;\n",
       "    }\n",
       "\n",
       "    .dataframe thead th {\n",
       "        text-align: right;\n",
       "    }\n",
       "</style>\n",
       "<table border=\"1\" class=\"dataframe\">\n",
       "  <thead>\n",
       "    <tr style=\"text-align: right;\">\n",
       "      <th></th>\n",
       "      <th>AIRLINE</th>\n",
       "      <th>ORIGIN_AIRPORT</th>\n",
       "      <th>DAY_OF_WEEK</th>\n",
       "      <th>ARRIVAL_DELAY</th>\n",
       "      <th>SECURITY_DELAY</th>\n",
       "      <th>LATE_AIRCRAFT_DELAY</th>\n",
       "    </tr>\n",
       "  </thead>\n",
       "  <tbody>\n",
       "    <tr>\n",
       "      <td>27</td>\n",
       "      <td>NK</td>\n",
       "      <td>MSP</td>\n",
       "      <td>4</td>\n",
       "      <td>25.0</td>\n",
       "      <td>0.0</td>\n",
       "      <td>0.0</td>\n",
       "    </tr>\n",
       "    <tr>\n",
       "      <td>30</td>\n",
       "      <td>NK</td>\n",
       "      <td>PHX</td>\n",
       "      <td>4</td>\n",
       "      <td>43.0</td>\n",
       "      <td>0.0</td>\n",
       "      <td>0.0</td>\n",
       "    </tr>\n",
       "    <tr>\n",
       "      <td>35</td>\n",
       "      <td>HA</td>\n",
       "      <td>LAS</td>\n",
       "      <td>4</td>\n",
       "      <td>15.0</td>\n",
       "      <td>0.0</td>\n",
       "      <td>0.0</td>\n",
       "    </tr>\n",
       "    <tr>\n",
       "      <td>50</td>\n",
       "      <td>B6</td>\n",
       "      <td>BQN</td>\n",
       "      <td>4</td>\n",
       "      <td>20.0</td>\n",
       "      <td>0.0</td>\n",
       "      <td>0.0</td>\n",
       "    </tr>\n",
       "    <tr>\n",
       "      <td>52</td>\n",
       "      <td>B6</td>\n",
       "      <td>SJU</td>\n",
       "      <td>4</td>\n",
       "      <td>85.0</td>\n",
       "      <td>0.0</td>\n",
       "      <td>0.0</td>\n",
       "    </tr>\n",
       "    <tr>\n",
       "      <td>55</td>\n",
       "      <td>B6</td>\n",
       "      <td>SJU</td>\n",
       "      <td>4</td>\n",
       "      <td>89.0</td>\n",
       "      <td>0.0</td>\n",
       "      <td>0.0</td>\n",
       "    </tr>\n",
       "    <tr>\n",
       "      <td>70</td>\n",
       "      <td>AA</td>\n",
       "      <td>DFW</td>\n",
       "      <td>4</td>\n",
       "      <td>102.0</td>\n",
       "      <td>0.0</td>\n",
       "      <td>0.0</td>\n",
       "    </tr>\n",
       "    <tr>\n",
       "      <td>73</td>\n",
       "      <td>US</td>\n",
       "      <td>PDX</td>\n",
       "      <td>4</td>\n",
       "      <td>60.0</td>\n",
       "      <td>0.0</td>\n",
       "      <td>0.0</td>\n",
       "    </tr>\n",
       "    <tr>\n",
       "      <td>74</td>\n",
       "      <td>AA</td>\n",
       "      <td>IAH</td>\n",
       "      <td>4</td>\n",
       "      <td>54.0</td>\n",
       "      <td>0.0</td>\n",
       "      <td>0.0</td>\n",
       "    </tr>\n",
       "    <tr>\n",
       "      <td>86</td>\n",
       "      <td>AA</td>\n",
       "      <td>DEN</td>\n",
       "      <td>4</td>\n",
       "      <td>66.0</td>\n",
       "      <td>0.0</td>\n",
       "      <td>0.0</td>\n",
       "    </tr>\n",
       "  </tbody>\n",
       "</table>\n",
       "</div>"
      ],
      "text/plain": [
       "   AIRLINE ORIGIN_AIRPORT  DAY_OF_WEEK  ARRIVAL_DELAY  SECURITY_DELAY  \\\n",
       "27      NK            MSP            4           25.0             0.0   \n",
       "30      NK            PHX            4           43.0             0.0   \n",
       "35      HA            LAS            4           15.0             0.0   \n",
       "50      B6            BQN            4           20.0             0.0   \n",
       "52      B6            SJU            4           85.0             0.0   \n",
       "55      B6            SJU            4           89.0             0.0   \n",
       "70      AA            DFW            4          102.0             0.0   \n",
       "73      US            PDX            4           60.0             0.0   \n",
       "74      AA            IAH            4           54.0             0.0   \n",
       "86      AA            DEN            4           66.0             0.0   \n",
       "\n",
       "    LATE_AIRCRAFT_DELAY  \n",
       "27                  0.0  \n",
       "30                  0.0  \n",
       "35                  0.0  \n",
       "50                  0.0  \n",
       "52                  0.0  \n",
       "55                  0.0  \n",
       "70                  0.0  \n",
       "73                  0.0  \n",
       "74                  0.0  \n",
       "86                  0.0  "
      ]
     },
     "execution_count": 31,
     "metadata": {},
     "output_type": "execute_result"
    }
   ],
   "source": [
    "# drop null values\n",
    "flights_df.dropna(axis=0, how='any', thresh=None, subset=None, inplace=True)\n",
    "print(f'Total rows: {flights_df.shape[0]:,}')\n",
    "flights_df.head(10)"
   ]
  },
  {
   "cell_type": "markdown",
   "metadata": {},
   "source": [
    "Now, delays won't do us good being separate, so we're going to sum them together and put them into a new column simply called __DELAY__"
   ]
  },
  {
   "cell_type": "code",
   "execution_count": 32,
   "metadata": {
    "ExecuteTime": {
     "end_time": "2019-12-16T23:37:53.365298Z",
     "start_time": "2019-12-16T23:37:53.331317Z"
    },
    "scrolled": true
   },
   "outputs": [
    {
     "data": {
      "text/html": [
       "<div>\n",
       "<style scoped>\n",
       "    .dataframe tbody tr th:only-of-type {\n",
       "        vertical-align: middle;\n",
       "    }\n",
       "\n",
       "    .dataframe tbody tr th {\n",
       "        vertical-align: top;\n",
       "    }\n",
       "\n",
       "    .dataframe thead th {\n",
       "        text-align: right;\n",
       "    }\n",
       "</style>\n",
       "<table border=\"1\" class=\"dataframe\">\n",
       "  <thead>\n",
       "    <tr style=\"text-align: right;\">\n",
       "      <th></th>\n",
       "      <th>AIRLINE</th>\n",
       "      <th>ORIGIN_AIRPORT</th>\n",
       "      <th>DAY_OF_WEEK</th>\n",
       "      <th>DELAY</th>\n",
       "    </tr>\n",
       "  </thead>\n",
       "  <tbody>\n",
       "    <tr>\n",
       "      <td>27</td>\n",
       "      <td>NK</td>\n",
       "      <td>MSP</td>\n",
       "      <td>4</td>\n",
       "      <td>25.0</td>\n",
       "    </tr>\n",
       "    <tr>\n",
       "      <td>30</td>\n",
       "      <td>NK</td>\n",
       "      <td>PHX</td>\n",
       "      <td>4</td>\n",
       "      <td>43.0</td>\n",
       "    </tr>\n",
       "    <tr>\n",
       "      <td>35</td>\n",
       "      <td>HA</td>\n",
       "      <td>LAS</td>\n",
       "      <td>4</td>\n",
       "      <td>15.0</td>\n",
       "    </tr>\n",
       "    <tr>\n",
       "      <td>50</td>\n",
       "      <td>B6</td>\n",
       "      <td>BQN</td>\n",
       "      <td>4</td>\n",
       "      <td>20.0</td>\n",
       "    </tr>\n",
       "    <tr>\n",
       "      <td>52</td>\n",
       "      <td>B6</td>\n",
       "      <td>SJU</td>\n",
       "      <td>4</td>\n",
       "      <td>85.0</td>\n",
       "    </tr>\n",
       "    <tr>\n",
       "      <td>55</td>\n",
       "      <td>B6</td>\n",
       "      <td>SJU</td>\n",
       "      <td>4</td>\n",
       "      <td>89.0</td>\n",
       "    </tr>\n",
       "    <tr>\n",
       "      <td>70</td>\n",
       "      <td>AA</td>\n",
       "      <td>DFW</td>\n",
       "      <td>4</td>\n",
       "      <td>102.0</td>\n",
       "    </tr>\n",
       "    <tr>\n",
       "      <td>73</td>\n",
       "      <td>US</td>\n",
       "      <td>PDX</td>\n",
       "      <td>4</td>\n",
       "      <td>60.0</td>\n",
       "    </tr>\n",
       "    <tr>\n",
       "      <td>74</td>\n",
       "      <td>AA</td>\n",
       "      <td>IAH</td>\n",
       "      <td>4</td>\n",
       "      <td>54.0</td>\n",
       "    </tr>\n",
       "    <tr>\n",
       "      <td>86</td>\n",
       "      <td>AA</td>\n",
       "      <td>DEN</td>\n",
       "      <td>4</td>\n",
       "      <td>66.0</td>\n",
       "    </tr>\n",
       "  </tbody>\n",
       "</table>\n",
       "</div>"
      ],
      "text/plain": [
       "   AIRLINE ORIGIN_AIRPORT  DAY_OF_WEEK  DELAY\n",
       "27      NK            MSP            4   25.0\n",
       "30      NK            PHX            4   43.0\n",
       "35      HA            LAS            4   15.0\n",
       "50      B6            BQN            4   20.0\n",
       "52      B6            SJU            4   85.0\n",
       "55      B6            SJU            4   89.0\n",
       "70      AA            DFW            4  102.0\n",
       "73      US            PDX            4   60.0\n",
       "74      AA            IAH            4   54.0\n",
       "86      AA            DEN            4   66.0"
      ]
     },
     "execution_count": 32,
     "metadata": {},
     "output_type": "execute_result"
    }
   ],
   "source": [
    "flights_df['DELAY'] = flights_df['LATE_AIRCRAFT_DELAY'] + flights_df['ARRIVAL_DELAY'] + flights_df['SECURITY_DELAY']\n",
    "# now we can safely drop previous tables\n",
    "flights_df.drop(['LATE_AIRCRAFT_DELAY', 'ARRIVAL_DELAY', 'SECURITY_DELAY'], axis=1, errors='ignore', inplace=True)\n",
    "flights_df.head(10)"
   ]
  },
  {
   "cell_type": "markdown",
   "metadata": {},
   "source": [
    "We need to encode all textual data in order as it's easier to work with. Textual data here are __AIRLINE__ and __ORIGIN_AIRPORT__ columns."
   ]
  },
  {
   "cell_type": "code",
   "execution_count": 33,
   "metadata": {
    "ExecuteTime": {
     "end_time": "2019-12-16T23:37:53.711111Z",
     "start_time": "2019-12-16T23:37:53.367296Z"
    }
   },
   "outputs": [
    {
     "name": "stdout",
     "output_type": "stream",
     "text": [
      "Total rows: 221,041\n"
     ]
    },
    {
     "data": {
      "text/html": [
       "<div>\n",
       "<style scoped>\n",
       "    .dataframe tbody tr th:only-of-type {\n",
       "        vertical-align: middle;\n",
       "    }\n",
       "\n",
       "    .dataframe tbody tr th {\n",
       "        vertical-align: top;\n",
       "    }\n",
       "\n",
       "    .dataframe thead th {\n",
       "        text-align: right;\n",
       "    }\n",
       "</style>\n",
       "<table border=\"1\" class=\"dataframe\">\n",
       "  <thead>\n",
       "    <tr style=\"text-align: right;\">\n",
       "      <th></th>\n",
       "      <th>AIRLINE</th>\n",
       "      <th>ORIGIN_AIRPORT</th>\n",
       "      <th>DAY_OF_WEEK</th>\n",
       "      <th>DELAY</th>\n",
       "    </tr>\n",
       "  </thead>\n",
       "  <tbody>\n",
       "    <tr>\n",
       "      <td>27</td>\n",
       "      <td>8</td>\n",
       "      <td>211</td>\n",
       "      <td>3</td>\n",
       "      <td>10</td>\n",
       "    </tr>\n",
       "    <tr>\n",
       "      <td>30</td>\n",
       "      <td>8</td>\n",
       "      <td>233</td>\n",
       "      <td>3</td>\n",
       "      <td>28</td>\n",
       "    </tr>\n",
       "    <tr>\n",
       "      <td>35</td>\n",
       "      <td>6</td>\n",
       "      <td>169</td>\n",
       "      <td>3</td>\n",
       "      <td>0</td>\n",
       "    </tr>\n",
       "    <tr>\n",
       "      <td>50</td>\n",
       "      <td>2</td>\n",
       "      <td>40</td>\n",
       "      <td>3</td>\n",
       "      <td>5</td>\n",
       "    </tr>\n",
       "    <tr>\n",
       "      <td>52</td>\n",
       "      <td>2</td>\n",
       "      <td>279</td>\n",
       "      <td>3</td>\n",
       "      <td>70</td>\n",
       "    </tr>\n",
       "    <tr>\n",
       "      <td>55</td>\n",
       "      <td>2</td>\n",
       "      <td>279</td>\n",
       "      <td>3</td>\n",
       "      <td>74</td>\n",
       "    </tr>\n",
       "    <tr>\n",
       "      <td>70</td>\n",
       "      <td>0</td>\n",
       "      <td>84</td>\n",
       "      <td>3</td>\n",
       "      <td>87</td>\n",
       "    </tr>\n",
       "    <tr>\n",
       "      <td>73</td>\n",
       "      <td>11</td>\n",
       "      <td>230</td>\n",
       "      <td>3</td>\n",
       "      <td>45</td>\n",
       "    </tr>\n",
       "    <tr>\n",
       "      <td>74</td>\n",
       "      <td>0</td>\n",
       "      <td>146</td>\n",
       "      <td>3</td>\n",
       "      <td>39</td>\n",
       "    </tr>\n",
       "    <tr>\n",
       "      <td>86</td>\n",
       "      <td>0</td>\n",
       "      <td>83</td>\n",
       "      <td>3</td>\n",
       "      <td>51</td>\n",
       "    </tr>\n",
       "  </tbody>\n",
       "</table>\n",
       "</div>"
      ],
      "text/plain": [
       "    AIRLINE  ORIGIN_AIRPORT  DAY_OF_WEEK  DELAY\n",
       "27        8             211            3     10\n",
       "30        8             233            3     28\n",
       "35        6             169            3      0\n",
       "50        2              40            3      5\n",
       "52        2             279            3     70\n",
       "55        2             279            3     74\n",
       "70        0              84            3     87\n",
       "73       11             230            3     45\n",
       "74        0             146            3     39\n",
       "86        0              83            3     51"
      ]
     },
     "execution_count": 33,
     "metadata": {},
     "output_type": "execute_result"
    }
   ],
   "source": [
    "# explicitly convert given types to string\n",
    "flights_df['AIRLINE'] = flights_df['AIRLINE'].astype(str)\n",
    "flights_df['ORIGIN_AIRPORT'] = flights_df['ORIGIN_AIRPORT'].astype(str)\n",
    "\n",
    "flights_df_encoder = LabelEncoder()\n",
    "\n",
    "flights_df = flights_df.apply(flights_df_encoder.fit_transform)\n",
    "\n",
    "print(f'Total rows: {flights_df.shape[0]:,}')\n",
    "flights_df.head(10)"
   ]
  },
  {
   "cell_type": "markdown",
   "metadata": {},
   "source": [
    "Now, the data is ready to be used for training!"
   ]
  },
  {
   "cell_type": "markdown",
   "metadata": {},
   "source": [
    "#### Training Data\n",
    "\n",
    "For this prediction, we're going to utilize neural networks library scikit comes with. \n",
    "\n",
    "Before we start, we need to split our existing dataset into training and test data. Training data will be used to train our model, and test data will be used to test the accuracy of our predictions. For our purposes, we'll use 80% of our data for training and the remaining 20% for testing."
   ]
  },
  {
   "cell_type": "code",
   "execution_count": 150,
   "metadata": {
    "ExecuteTime": {
     "end_time": "2019-12-17T00:25:22.404447Z",
     "start_time": "2019-12-17T00:25:22.392444Z"
    }
   },
   "outputs": [
    {
     "name": "stdout",
     "output_type": "stream",
     "text": [
      "Train Set Count: 7,500\n",
      "Test Set Count: 2,500\n"
     ]
    }
   ],
   "source": [
    "flights_df_copy = flights_df.head(10000)\n",
    "\n",
    "# we split our dataset into inputs (x) and output (y)\n",
    "# df_x are the following inputs: AIRLINE, ORIGIN_AIRPORT and DAY_OF_WEEK\n",
    "# df_y is the following output: DELAY\n",
    "df_y = flights_df_copy['DELAY']\n",
    "df_x = flights_df_copy.drop('DELAY', axis=1)\n",
    "\n",
    "x_train, x_test, y_train, y_test = train_test_split(df_x, df_y, test_size= 0.25, random_state=27)\n",
    "\n",
    "print(f'Train Set Count: {x_train.shape[0]:,}')\n",
    "print(f'Test Set Count: {x_test.shape[0]:,}')"
   ]
  },
  {
   "cell_type": "code",
   "execution_count": 153,
   "metadata": {
    "ExecuteTime": {
     "end_time": "2019-12-17T00:28:50.904902Z",
     "start_time": "2019-12-17T00:28:50.900918Z"
    }
   },
   "outputs": [],
   "source": [
    "nn = MLPClassifier(hidden_layer_sizes=(100,100,100), \n",
    "                   max_iter=500, \n",
    "                   alpha=0.0001, \n",
    "                   solver='sgd',\n",
    "                   learning_rate='adaptive',\n",
    "                   random_state=21,\n",
    "                   tol=0.000000001)"
   ]
  },
  {
   "cell_type": "code",
   "execution_count": 154,
   "metadata": {
    "ExecuteTime": {
     "end_time": "2019-12-17T00:30:13.391506Z",
     "start_time": "2019-12-17T00:28:50.906903Z"
    }
   },
   "outputs": [
    {
     "name": "stderr",
     "output_type": "stream",
     "text": [
      "D:\\ProgramData\\Anaconda3\\lib\\site-packages\\sklearn\\neural_network\\multilayer_perceptron.py:566: ConvergenceWarning: Stochastic Optimizer: Maximum iterations (500) reached and the optimization hasn't converged yet.\n",
      "  % self.max_iter, ConvergenceWarning)\n"
     ]
    },
    {
     "data": {
      "text/plain": [
       "MLPClassifier(activation='relu', alpha=0.0001, batch_size='auto', beta_1=0.9,\n",
       "              beta_2=0.999, early_stopping=False, epsilon=1e-08,\n",
       "              hidden_layer_sizes=(100, 100, 100), learning_rate='adaptive',\n",
       "              learning_rate_init=0.001, max_iter=500, momentum=0.9,\n",
       "              n_iter_no_change=10, nesterovs_momentum=True, power_t=0.5,\n",
       "              random_state=21, shuffle=True, solver='sgd', tol=1e-09,\n",
       "              validation_fraction=0.1, verbose=False, warm_start=False)"
      ]
     },
     "execution_count": 154,
     "metadata": {},
     "output_type": "execute_result"
    }
   ],
   "source": [
    "nn.fit(x_train, y_train)"
   ]
  },
  {
   "cell_type": "markdown",
   "metadata": {},
   "source": [
    "Now, we predict based on the test data we get."
   ]
  },
  {
   "cell_type": "code",
   "execution_count": 155,
   "metadata": {
    "ExecuteTime": {
     "end_time": "2019-12-17T00:30:13.429483Z",
     "start_time": "2019-12-17T00:30:13.393504Z"
    }
   },
   "outputs": [],
   "source": [
    "predicted_outputs=nn.predict(x_test)"
   ]
  },
  {
   "cell_type": "markdown",
   "metadata": {},
   "source": [
    "After that, we print out the predicted vs actual data."
   ]
  },
  {
   "cell_type": "code",
   "execution_count": 160,
   "metadata": {
    "ExecuteTime": {
     "end_time": "2019-12-17T00:30:13.440477Z",
     "start_time": "2019-12-17T00:30:13.431483Z"
    }
   },
   "outputs": [
    {
     "name": "stdout",
     "output_type": "stream",
     "text": [
      "       Actual  Predicted\n",
      "7853       39          3\n",
      "21588      80          2\n",
      "22689      25          0\n",
      "13680      41          8\n",
      "12787     137          8\n",
      "2698        5          0\n",
      "34922       2          0\n",
      "8175       37          8\n",
      "11125     138          0\n",
      "10300     113         15\n"
     ]
    }
   ],
   "source": [
    "df_compare = pd.DataFrame({'Actual': y_test, 'Predicted': predicted_outputs})\n",
    "df_head = df_compare.head(10)\n",
    "\n",
    "print(df_head)"
   ]
  },
  {
   "cell_type": "code",
   "execution_count": 159,
   "metadata": {
    "ExecuteTime": {
     "end_time": "2019-12-17T00:33:28.241425Z",
     "start_time": "2019-12-17T00:33:28.237410Z"
    }
   },
   "outputs": [
    {
     "name": "stdout",
     "output_type": "stream",
     "text": [
      "Accuracy: 2.44%\n"
     ]
    }
   ],
   "source": [
    "# calculate prediction accuracy rate\n",
    "print(f'Accuracy: {accuracy_score(y_test, predicted_outputs) * 100}%')"
   ]
  }
 ],
 "metadata": {
  "kernelspec": {
   "display_name": "Python 3",
   "language": "python",
   "name": "python3"
  },
  "language_info": {
   "codemirror_mode": {
    "name": "ipython",
    "version": 3
   },
   "file_extension": ".py",
   "mimetype": "text/x-python",
   "name": "python",
   "nbconvert_exporter": "python",
   "pygments_lexer": "ipython3",
   "version": "3.6.5"
  }
 },
 "nbformat": 4,
 "nbformat_minor": 2
}
